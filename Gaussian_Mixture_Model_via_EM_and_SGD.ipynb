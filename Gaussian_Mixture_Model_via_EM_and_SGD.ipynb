{
  "nbformat": 4,
  "nbformat_minor": 0,
  "metadata": {
    "orig_nbformat": 2,
    "file_extension": ".py",
    "mimetype": "text/x-python",
    "name": "python",
    "npconvert_exporter": "python",
    "pygments_lexer": "ipython3",
    "version": 3,
    "colab": {
      "name": "Gaussian Mixture Model via EM and SGD.ipynb",
      "provenance": [],
      "collapsed_sections": [],
      "toc_visible": true
    },
    "kernelspec": {
      "name": "python3",
      "display_name": "Python 3"
    }
  },
  "cells": [
    {
      "cell_type": "markdown",
      "metadata": {
        "id": "OCcxbqS6JCd5",
        "colab_type": "text"
      },
      "source": [
        " ## Introduciton\n",
        "This IPython Notebook is designed to compare the performance of two ways of training a Gaussian mixture model: 1) EM (as everyone will think of) and 2) maximize the loglikelihood by SGD. The latter has been investigated by David Rosenberg: https://davidrosenberg.github.io/mlcourse/Archive/2017/Lectures/13.lab.mixture-models.pdf \n",
        "\n",
        "This code handles a mixture of M Gaussian distributions, each of which has D dimensions. \n",
        "\n",
        "In our experiments, we set M=3 and D=2. We implement the EM and SGD using PyTorch and visualize the results. \n",
        "According to Rosenberg, in this simple case, EM and SGD should perform similarly, but that is not what we observed. So we would like to investigate the reason. \n"
      ]
    },
    {
      "cell_type": "markdown",
      "metadata": {
        "id": "1Cy-5IVjRHxv",
        "colab_type": "text"
      },
      "source": [
        "## Preparing data\n",
        "First we import necessary libraries, including Numpy(1.16.4), PyTorch(1.1.0), Matplotlib(3.1.0) and set some parameters used in the model, including data dimension, how many components in the mixture model and the dataset size. In this example, we use 2-d data and a 3-component Gaussian mixture model with 20000 data points."
      ]
    },
    {
      "cell_type": "code",
      "metadata": {
        "id": "mmqqOpxeJCd6",
        "colab_type": "code",
        "colab": {}
      },
      "source": [
        "import pickle\n",
        "import time\n",
        "import os\n",
        "import numpy as np\n",
        "import torch\n",
        "import pylab\n",
        "import matplotlib.pyplot as plt\n",
        "np.random.seed(12345)\n",
        "torch.manual_seed(12345)\n",
        "# Data dimension\n",
        "d = 2\n",
        "# Gaussian mixture model components number\n",
        "k = 3\n",
        "# datset size\n",
        "N = 20000\n"
      ],
      "execution_count": 0,
      "outputs": []
    },
    {
      "cell_type": "markdown",
      "metadata": {
        "id": "0LHEBojTJCd9",
        "colab_type": "text"
      },
      "source": [
        "Here, we manually set the ground truth of weights of components, mean values and covariance matrices. To give a clear visual effect, we make three components as distinguishable as possible.\n"
      ]
    },
    {
      "cell_type": "code",
      "metadata": {
        "id": "aPZmySqzSgpC",
        "colab_type": "code",
        "colab": {}
      },
      "source": [
        "true_pis = [0.3, 0.4, 0.3]\n",
        "true_mus = [np.array([2.0, 2.0]).reshape(d, 1), \n",
        "            np.array([0.0, -2.0]).reshape(d, 1),\n",
        "            np.array([-2.5, 1.0]).reshape(d, 1)]\n",
        "true_covs = [np.identity(d).reshape(d, d),\n",
        "             np.array([[0.5, -0.3], [-0.3, 0.5]]).reshape(d, d),\n",
        "             np.array([[0.6, 0.4], [0.4, 0.6]]).reshape(d, d)]"
      ],
      "execution_count": 0,
      "outputs": []
    },
    {
      "cell_type": "markdown",
      "metadata": {
        "id": "HH3-hiNzTG5E",
        "colab_type": "text"
      },
      "source": [
        "The following function using standard sample method to sample from a Gaussian mixture model. We first randomly pick the individual Gaussian component based on their weights, then use Numpy to sample from a multivariate Gaussian function. "
      ]
    },
    {
      "cell_type": "code",
      "metadata": {
        "id": "Ybn77_PUJCd-",
        "colab_type": "code",
        "colab": {}
      },
      "source": [
        "def sample(pis, mus, covs, sample_num=1):\n",
        "    \"\"\" This is sample frunction for gaussian mixture model given wegihts, means\n",
        "    and covariance matrices of all components.\n",
        "    Arguments:\n",
        "        pis: all weights, a list of float, sum to 1\n",
        "        mus: mean values, a list of numpy d*1 array\n",
        "        covs: covariance matrices, a list of numpy d*d array\n",
        "    Return:\n",
        "        samples: total 'sample_num' samples, a sample_num*d*1 np array.\n",
        "    \"\"\"\n",
        "    assert(len(pis)==len(mus) and len(pis) == len(covs)), 'Components not match'\n",
        "    assert(sum(pis) == 1), 'Components weights should sum to 1'\n",
        "    for mu, cov in zip(mus, covs):\n",
        "        assert(mu.shape[1] == 1)\n",
        "        assert(mu.shape[0] >= mu.shape[1]), 'mu must be a column vector'\n",
        "        assert(cov.shape[0] == cov.shape[1]), 'covariance matrix must be square'\n",
        "        assert(mu.shape[0] == cov.shape[0]), 'cov_mat and mu_vec must have the \\\n",
        "        same dimensions'\n",
        "    \n",
        "    k_choices = np.random.choice(len(pis), sample_num, p=pis)\n",
        "    samples = np.stack([np.random.multivariate_normal(mus[i].squeeze(axis=-1),\\\n",
        "                        covs[i]).reshape(d,1) for i in k_choices], axis=0)\n",
        "    return samples\n"
      ],
      "execution_count": 0,
      "outputs": []
    },
    {
      "cell_type": "code",
      "metadata": {
        "id": "Kob7E9_cGgE6",
        "colab_type": "code",
        "colab": {}
      },
      "source": [
        "def multivariate_gaussian(x, mu, cov):\n",
        "    '''\n",
        "    Caculate the multivariate normal density (pdf)\n",
        "\n",
        "    Arguments:\n",
        "        x = numpy array of a \"d x 1\" sample vector\n",
        "        mu = numpy array of a \"d x 1\" mean vector\n",
        "        cov = \"numpy array of a d x d\" covariance matrix\n",
        "    '''\n",
        "    assert(mu.shape[0] >= mu.shape[1]), 'mu must be a row vector'\n",
        "    assert(x.shape[0] >= x.shape[1]), 'x must be a row vector'\n",
        "    assert(cov.shape[0] == cov.shape[1]), 'covariance matrix must be square'\n",
        "    assert(mu.shape[0] == cov.shape[0]), 'cov_mat and mu_vec must have the same\\\n",
        "    dimensions'\n",
        "    assert(mu.shape[0] == x.shape[0]), 'mu and x must have the same dimensions'\n",
        "    dim = mu.shape[0]\n",
        "    part1 = 1 / (((2* np.pi)**(len(mu)/2)) * (np.linalg.det(cov)**(1/2)) )\n",
        "    part2 = (-1/2) * ((x-mu).T.dot(np.linalg.inv(cov))).dot((x-mu))\n",
        "\n",
        "    return float(part1 * np.exp(part2))"
      ],
      "execution_count": 0,
      "outputs": []
    },
    {
      "cell_type": "code",
      "metadata": {
        "id": "7jBKyN7AJCeD",
        "colab_type": "code",
        "colab": {}
      },
      "source": [
        "samples = sample(true_pis, true_mus, true_covs, sample_num=N)"
      ],
      "execution_count": 0,
      "outputs": []
    },
    {
      "cell_type": "markdown",
      "metadata": {
        "id": "1WYYKwjZUGvh",
        "colab_type": "text"
      },
      "source": [
        "Let's have a look at the sampled data."
      ]
    },
    {
      "cell_type": "code",
      "metadata": {
        "id": "MpBA1kSlJCeG",
        "colab_type": "code",
        "outputId": "289a1409-f7e8-42cc-fa91-144b2a497758",
        "colab": {
          "base_uri": "https://localhost:8080/",
          "height": 265
        }
      },
      "source": [
        "plt.hist2d(np.squeeze(samples[:,0, :]), np.squeeze(samples[:,1,:]), \\\n",
        "           bins=(100, 100), cmap=plt.cm.jet)\n",
        "plt.show()"
      ],
      "execution_count": 0,
      "outputs": [
        {
          "output_type": "display_data",
          "data": {
            "image/png": "[encoded data removed]",
            "text/plain": [
              "<Figure size 432x288 with 1 Axes>"
            ]
          },
          "metadata": {
            "tags": []
          }
        }
      ]
    },
    {
      "cell_type": "markdown",
      "metadata": {
        "id": "l50ECLtCUOU2",
        "colab_type": "text"
      },
      "source": [
        "To have a reference, let's look at what the actual function looks like. "
      ]
    },
    {
      "cell_type": "code",
      "metadata": {
        "id": "2J_CQ4deJCeI",
        "colab_type": "code",
        "outputId": "566a5e8f-c497-44dc-ccb0-d0f9b4ba7cb2",
        "colab": {
          "base_uri": "https://localhost:8080/",
          "height": 282
        }
      },
      "source": [
        "# True function \n",
        "x = np.arange(-5.0, 5.0, 0.1)\n",
        "y = np.arange(5.0, -5.0, -0.1)\n",
        "X, Y = np.meshgrid(x, y)\n",
        "grid = np.stack([X, Y], axis=-1).reshape(10000, 2, 1)\n",
        "\n",
        "true_prob = np.array([sum([pi * multivariate_gaussian(x, mu, cov) for pi, mu,\\\n",
        "                     cov in zip(true_pis, true_mus, true_covs)]) for x in grid])\n",
        "plt.contourf(X, Y, true_prob.reshape(100,100), 100, cmap=plt.cm.jet)\n"
      ],
      "execution_count": 0,
      "outputs": [
        {
          "output_type": "execute_result",
          "data": {
            "text/plain": [
              "<matplotlib.contour.QuadContourSet at 0x7f2d7f7aa6a0>"
            ]
          },
          "metadata": {
            "tags": []
          },
          "execution_count": 8
        },
        {
          "output_type": "display_data",
          "data": {
            "image/png": "[encoded data removed]",
            "text/plain": [
              "<Figure size 432x288 with 1 Axes>"
            ]
          },
          "metadata": {
            "tags": []
          }
        }
      ]
    },
    {
      "cell_type": "markdown",
      "metadata": {
        "id": "7vM0Vo8IU7LA",
        "colab_type": "text"
      },
      "source": [
        "Now, we split the data with ratio 8:1:1 to train, develop and test set and calculate the ground truth log likelihood per sample on each dataset. "
      ]
    },
    {
      "cell_type": "code",
      "metadata": {
        "id": "-bnXwqmbJCeB",
        "colab_type": "code",
        "colab": {}
      },
      "source": [
        "def getLoglikelihood(data, pi, mu, cov):\n",
        "    loglikelihood = sum([np.log(sum([pi[i]*multivariate_gaussian(x, mu[i], \\\n",
        "                         cov[i]) for i in range(len(pi))])) for x in data]) \\\n",
        "                    / len(data)\n",
        "    return loglikelihood"
      ],
      "execution_count": 0,
      "outputs": []
    },
    {
      "cell_type": "code",
      "metadata": {
        "id": "Q2dA1LDzJCeJ",
        "colab_type": "code",
        "outputId": "8b809acb-f008-48d5-db32-54a4e88af272",
        "colab": {
          "base_uri": "https://localhost:8080/",
          "height": 68
        }
      },
      "source": [
        "# Data split\n",
        "train_data = samples[:int(N*0.8)]\n",
        "dev_data = samples[int(N*0.8):int(N*0.9)]\n",
        "test_data = samples[int(N*0.9):]\n",
        "\n",
        "true_train_loglikelihood = getLoglikelihood(train_data, true_pis, true_mus, true_covs)\n",
        "true_dev_loglikelihood = getLoglikelihood(dev_data, true_pis, true_mus, true_covs)\n",
        "true_test_loglikelihood = getLoglikelihood(test_data, true_pis, true_mus, true_covs)\n",
        "\n",
        "print('Train data log likelihood: {:.4f}'.format(true_train_loglikelihood))\n",
        "print('Dev data log likelihood: {:.4f}'.format(true_dev_loglikelihood))\n",
        "print('Test data log likelihood: {:.4f}'.format(true_test_loglikelihood ))"
      ],
      "execution_count": 0,
      "outputs": [
        {
          "output_type": "stream",
          "text": [
            "Train data log likelihood: -3.3159\n",
            "Dev data log likelihood: -3.2921\n",
            "Test data log likelihood: -3.3132\n"
          ],
          "name": "stdout"
        }
      ]
    },
    {
      "cell_type": "markdown",
      "metadata": {
        "id": "DCBS9iYIphEI",
        "colab_type": "text"
      },
      "source": [
        "## Gaussian Mixture\n",
        "\n",
        "Let $\\mathbf{x} = (\\mathbf{x}_1, \\mathbf{x}_2, ..., \\mathbf{x}_N)$ be a sample of n independent observations from a mixture of $K$ multivariate normal distributions of dimension $D$, and let $\\mathbf{z} = (z_1, z_2, ..., z_N) $ be the latent variables that determine the component from which the observation originates. That is,\n",
        "\n",
        "$$X_n \\mid(Z_n= k) \\sim \\mathcal{N}_D(\\boldsymbol{\\mu}_k, \\Sigma_k) $$\n",
        "$$P(Z_n = k) = \\tau_k$$\n",
        "where $\\sum_{k=1}^{K} \\tau_k = 1$\n",
        "\n",
        "Our goal here is to estimate the unknown parameters representing the mixing value between Gaussians and the means and covariances of each:\n",
        "$$\\boldsymbol{\\theta} = (\\theta_1, \\theta_2, ..., \\theta_K), \\text{where }\\theta_k = (\\tau_k, \\boldsymbol{\\mu}_k, \\Sigma_k)$$\n",
        "\n",
        "Therefore, the joint probability of observed samples and hidden variables, according to Bayes theorem, should be:\n",
        "\n",
        "$$p(\\mathbf{x}, \\mathbf{z} \\mid \\boldsymbol{\\theta}) = \\prod_{n=1}^{N}\\prod_{k=1}^{K}[\\tau_k \\cdot g(\\mathbf{x}_n; \\boldsymbol{\\mu}_k, \\Sigma_k)]^{\\mathbb{I}(z_n = k)}$$\n",
        "\n",
        "where $\\mathbb{I}$ is the indicator function and $g$ is the probability density function of a multivariate normal distribution. Then, the complete data log likelihood function should be \n",
        "\n",
        "$$\n",
        "\\begin{align*}\n",
        "\\log{L(\\boldsymbol{\\theta}; \\mathbf{x, z})} &= \\log p(\\mathbf{x}, \\mathbf{z} \\mid \\boldsymbol{\\theta}) \\\\\n",
        "&= \\sum_{n=1}^{N}\\sum_{k=1}^{K} \\mathbb{I}(z_n = k)[\\log \\tau_k - \\frac{1}{2}\\log{\\mid \\Sigma_k\\mid} - \\frac{1}{2}(\\mathbf{x}_n - \\boldsymbol{\\mu}_k)^\\mathsf{T}\\Sigma_k^{-1}(\\mathbf{x}_n - \\boldsymbol{\\mu}_k) - \\frac{D}{2}\\log{2\\pi}]\n",
        "\\end{align*}\n",
        "$$"
      ]
    },
    {
      "cell_type": "markdown",
      "metadata": {
        "id": "XxSvNwZIJCeM",
        "colab_type": "text"
      },
      "source": [
        " ## EM algorithm"
      ]
    },
    {
      "cell_type": "markdown",
      "metadata": {
        "id": "XDgUwK_pptzd",
        "colab_type": "text"
      },
      "source": [
        "In E step, we calculate the posterior probabilities for each components given the samples.\n",
        "$$\n",
        "\\gamma_{k;n}^{(t)} \n",
        ":= P(Z_n=k\\mid X_n = \\mathbf{x}_n; \\boldsymbol{\\theta}^{(t)}) = \\dfrac{\\tau_{k}^{(t)}\\cdot g(\\mathbf{x}_n; \\boldsymbol{\\mu}_k^{(t)}, \\Sigma_{k}^{(t)})}{\\sum_{l=1}^{K}\\tau_{l}^{(t)}\\cdot g(\\mathbf{x}_n; \\boldsymbol{\\mu}_l^{(t)}, \\Sigma_{l}^{(t)})}\n",
        "$$\n",
        "\n",
        "The expectation data-dependent log likelihood hereby is given by the following formula\n",
        "$$\n",
        "\\begin{align*}\n",
        "Q(\\boldsymbol{\\theta}\\mid\\boldsymbol{\\theta}^{(t)}) &= \\mathbb{E}_{\\mathbf{Z}\\mid\\mathbf{X}, \\boldsymbol\\theta^{(t)}}[\\log{L(\\boldsymbol\\theta; \\mathbf{x}, \\mathbf{Z})}] \\\\\n",
        "&= \\sum_{n=1}^{N}\\sum_{k=1}^{K} \\gamma_{k,n}^{(t)}[\\log \\tau_k - \\frac{1}{2}\\log{\\mid \\Sigma_k\\mid} - \\frac{1}{2}(\\mathbf{x}_n - \\boldsymbol{\\mu}_k)^\\mathsf{T}\\Sigma_k^{-1}(\\mathbf{x}_n - \\boldsymbol{\\mu}_k) - \\frac{D}{2}\\log{2\\pi}]\n",
        "\\end{align*}\n",
        "$$"
      ]
    },
    {
      "cell_type": "code",
      "metadata": {
        "id": "6j8l-YJuJCeN",
        "colab_type": "code",
        "colab": {}
      },
      "source": [
        "# E step\n",
        "def Estep(dataset, pi_t, mu_t, cov_t):\n",
        "    k = len(pi_t)\n",
        "    gammas = []\n",
        "    expectation_loglikelihood = 0.0 \n",
        "    for x in dataset:\n",
        "        gamma_raw = [pi_t[i] * multivariate_gaussian(x, mu_t[i],\\\n",
        "                     cov_t[i]) for i in range(k)]\n",
        "        gamma = [g / sum(gamma_raw) for g in gamma_raw]\n",
        "        gammas.append(gamma)\n",
        "    \n",
        "        expectation_loglikelihood += sum([gamma[k] * np.log(pi_t[k] * \\\n",
        "                                          multivariate_gaussian(x, mu_t[k], \\\n",
        "                                          cov_t[k])) for k in range(len(pi_t))])\n",
        "    \n",
        "    return np.array(gammas), expectation_loglikelihood / len(dataset)\n"
      ],
      "execution_count": 0,
      "outputs": []
    },
    {
      "cell_type": "markdown",
      "metadata": {
        "id": "7pxBBvLULMdp",
        "colab_type": "text"
      },
      "source": [
        "In M step, we pick $\\theta^{(t+1)}$ that maximizes $Q(\\boldsymbol{\\theta}\\mid\\boldsymbol{\\theta}^{(t)})$, that is\n",
        "$$\\boldsymbol\\tau^{(t+1)} = \\operatorname*{argmax}_\\boldsymbol{\\tau^{(t)}} Q(\\boldsymbol{\\theta}\\mid\\boldsymbol{\\theta}^{(t)})$$\n",
        "$$\n",
        "(\\boldsymbol\\mu^{(t+1)}_k, \\Sigma_k^{(t+1)}) = \\operatorname*{argmax}_{(\\boldsymbol\\mu^{(t)}_k, \\Sigma_k^{(t)})}Q(\\boldsymbol{\\theta}\\mid\\boldsymbol{\\theta}^{(t)})\n",
        "$$\n",
        "\n",
        "Therefore, we could use following formula to update parameters.\n",
        "$$\\tau_k^{(t+1)} = \\dfrac{\\sum_{n=1}^{N} \\gamma_{k;n}^{(t)}}{\\sum_{n=1}^{N}\\sum_{k=1}^{K} \\gamma_{k;n}^{(t)}} = \\frac{1}{N}\\sum_{n=1}^{N}\\gamma_{k,n}^{(t)}$$\n",
        "\n",
        "$$\\boldsymbol\\mu_k^{(t+1)} = \\dfrac{\\sum_{n=1}^{N} \\gamma_{k;n}^{(t)}\\mathbf{x}_n}{\\sum_{n=1}^{N} \\gamma_{k;n}^{(t)}}$$\n",
        "\n",
        "$$\\Sigma_k^{(t+1)} = \\dfrac{\\sum_{n=1}^{N} \\gamma_{k;n}^{(t)}(\\mathbf{x}_n - \\boldsymbol\\mu_k^{(t+1)})(\\mathbf{x}_n - \\boldsymbol\\mu_k^{(t+1)})^\\mathsf{T}}{\\sum_{n=1}^{N} \\gamma_{k;n}^{(t)}}$$"
      ]
    },
    {
      "cell_type": "code",
      "metadata": {
        "id": "HlOA_CRYJCeR",
        "colab_type": "code",
        "colab": {}
      },
      "source": [
        "# M step\n",
        "def Mstep(dataset, gammas):\n",
        "    pi_t, mu_t, cov_t = [], [], []\n",
        "    gamma_k = np.sum(gammas, axis=0)\n",
        "\n",
        "    pi_t = gamma_k / len(dataset)\n",
        "    mu_t = [sum([gammas[i][k]*x for i, x in enumerate(dataset)])/gamma_k[k] for k in range(len(pi_t))]\n",
        "    cov_t = [sum([gammas[i][k]*(x-mu_t[k]).dot((x-mu_t[k]).T) for i, x in enumerate(dataset)])/gamma_k[k] for k in range(len(pi_t))]\n",
        "\n",
        "\n",
        "    return pi_t, mu_t, cov_t\n"
      ],
      "execution_count": 0,
      "outputs": []
    },
    {
      "cell_type": "markdown",
      "metadata": {
        "id": "8VUCsM3hPjze",
        "colab_type": "text"
      },
      "source": [
        "We terminate the algorithm when $Q(\\boldsymbol{\\theta}\\mid\\boldsymbol{\\theta}^{(t)})$ changes smaller than the given threshold $\\epsilon=10^{-4}$"
      ]
    },
    {
      "cell_type": "code",
      "metadata": {
        "id": "XD9oQ3NeJCeT",
        "colab_type": "code",
        "colab": {}
      },
      "source": [
        "# EM\n",
        "def EMAlgorithm(train_data):\n",
        "    mu = np.random.uniform(size=(k, d, 1))\n",
        "    cov = np.array([np.identity(d) for i in range(k)])\n",
        "    pi = [1/len(mu) for i in range(len(mu))]\n",
        "    \n",
        "    best_loglikelihood = -np.infty\n",
        "    last_loglikelihood = -np.infty\n",
        "    best_pi = None\n",
        "    best_mu = None\n",
        "    best_cov = None\n",
        "\n",
        "    while True:\n",
        "        gammas, loglikelihood = Estep(train_data, pi, mu, cov)\n",
        "        pi, mu, cov = Mstep(train_data, gammas)\n",
        "        \n",
        "        if loglikelihood > best_loglikelihood:\n",
        "            best_loglikelihood = loglikelihood.copy()\n",
        "            best_pi = pi\n",
        "            best_mu = mu\n",
        "            best_cov = cov\n",
        "        if np.abs(loglikelihood - last_loglikelihood) <= 1e-4:\n",
        "            break\n",
        "        last_loglikelihood = loglikelihood\n",
        "#         print('Current loglik: {:.4f}\\nBest    loglik: {:.4f}'.format(float(loglikelihood), float(best_loglikelihood)))\n",
        "    \n",
        "    return best_pi, best_mu, best_cov\n"
      ],
      "execution_count": 0,
      "outputs": []
    },
    {
      "cell_type": "markdown",
      "metadata": {
        "id": "Ec1HXYelQAie",
        "colab_type": "text"
      },
      "source": [
        "We now run the algorithm, show the final estimated model and calculate the log likelihood on each dataset."
      ]
    },
    {
      "cell_type": "code",
      "metadata": {
        "id": "JkqeiYRNJCeX",
        "colab_type": "code",
        "outputId": "03e61a28-286e-4adb-8ccf-9bbea67ce9a4",
        "colab": {
          "base_uri": "https://localhost:8080/",
          "height": 85
        }
      },
      "source": [
        "tic = time.time()\n",
        "em_pis, em_mus, em_covs = EMAlgorithm(train_data)\n",
        "toc = time.time()\n",
        "print('Finished in {:.2f}s'.format(toc-tic))\n",
        "function_formula = ''\n",
        "for i in range(k):\n",
        "    if i != 0:\n",
        "        function_formula += ' + \\n'\n",
        "    function_formula += '{:.4f}*N({}, {})'.format(em_pis[i], np.around(em_mus[i],decimals=4).reshape(d,).tolist(), np.around(em_covs[i],decimals=4).reshape(d,d).tolist())\n",
        "print('Best Estimate:\\t{}'.format(function_formula))\n"
      ],
      "execution_count": 0,
      "outputs": [
        {
          "output_type": "stream",
          "text": [
            "Finished in 92.71s\n",
            "Best Estimate:\t0.3059*N([-2.4878, 1.0133], [[0.6055, 0.3977], [0.3977, 0.5952]]) + \n",
            "0.2984*N([1.9789, 2.0205], [[0.9917, -0.0025], [-0.0025, 0.9647]]) + \n",
            "0.3957*N([-0.0018, -1.9918], [[0.5035, -0.305], [-0.305, 0.5278]])\n"
          ],
          "name": "stdout"
        }
      ]
    },
    {
      "cell_type": "code",
      "metadata": {
        "id": "DZHpXo1CfpBu",
        "colab_type": "code",
        "outputId": "9b8c0aa7-d621-4a08-8e7f-71f4b67a2a8c",
        "colab": {
          "base_uri": "https://localhost:8080/",
          "height": 68
        }
      },
      "source": [
        "em_train_loglikelihood = getLoglikelihood(train_data, em_pis, em_mus, em_covs)\n",
        "em_dev_loglikelihood = getLoglikelihood(dev_data, em_pis, em_mus, em_covs)\n",
        "em_test_loglikelihood = getLoglikelihood(test_data, em_pis, em_mus, em_covs)\n",
        "print('Estimated train data log likelihood: {:.4f}'.format(em_train_loglikelihood))\n",
        "print('Estimated dev data log likelihood: {:.4f}'.format(em_dev_loglikelihood))\n",
        "print('Estimated test data log likelihood: {:.4f}'.format(em_test_loglikelihood))"
      ],
      "execution_count": 0,
      "outputs": [
        {
          "output_type": "stream",
          "text": [
            "Estimated train data log likelihood: -3.3150\n",
            "Estimated dev data log likelihood: -3.2926\n",
            "Estimated test data log likelihood: -3.3142\n"
          ],
          "name": "stdout"
        }
      ]
    },
    {
      "cell_type": "markdown",
      "metadata": {
        "id": "8n2gwhq-RTlj",
        "colab_type": "text"
      },
      "source": [
        "Now let's have a look at the estimated model given by EM algorithm. Pretty awesome, right?"
      ]
    },
    {
      "cell_type": "code",
      "metadata": {
        "id": "EnJCPlbwKVZa",
        "colab_type": "code",
        "outputId": "b06094fa-24e5-415b-e0d7-70a0f6c105f6",
        "colab": {
          "base_uri": "https://localhost:8080/",
          "height": 282
        }
      },
      "source": [
        "em_prob = np.array([sum([pi * multivariate_gaussian(x, mu, cov) for pi, mu, cov in zip(em_pis, em_mus, em_covs)]) for x in grid])\n",
        "plt.contourf(X, Y, em_prob.reshape(100,100), 100, cmap=plt.cm.jet)"
      ],
      "execution_count": 0,
      "outputs": [
        {
          "output_type": "execute_result",
          "data": {
            "text/plain": [
              "<matplotlib.contour.QuadContourSet at 0x7f2d7f5af9b0>"
            ]
          },
          "metadata": {
            "tags": []
          },
          "execution_count": 16
        },
        {
          "output_type": "display_data",
          "data": {
            "image/png": "[encoded data removed]",
            "text/plain": [
              "<Figure size 432x288 with 1 Axes>"
            ]
          },
          "metadata": {
            "tags": []
          }
        }
      ]
    },
    {
      "cell_type": "markdown",
      "metadata": {
        "id": "rByTrE2SJCec",
        "colab_type": "text"
      },
      "source": [
        " ## SGD"
      ]
    },
    {
      "cell_type": "markdown",
      "metadata": {
        "id": "D9SofKFrRrCx",
        "colab_type": "text"
      },
      "source": [
        "In this section, instead of using EM algorithm, we directly train the complete data joint loglikelihood to see if we could get a as good or better result. We use the SGD optimizer provided by PyTorch."
      ]
    },
    {
      "cell_type": "markdown",
      "metadata": {
        "id": "9tU_HXfRJCed",
        "colab_type": "text"
      },
      "source": [
        "We need to rewrite some functions in PyTorch to pass the gradients."
      ]
    },
    {
      "cell_type": "code",
      "metadata": {
        "id": "1LicOl9wJCee",
        "colab_type": "code",
        "colab": {}
      },
      "source": [
        "def torch_multivariate_gaussian(x, mu, cov):\n",
        "    '''\n",
        "    Caculate the multivariate normal density (pdf)\n",
        "\n",
        "    Arguments:\n",
        "        x = numpy array of a \"d x 1\" sample vector\n",
        "        mu = numpy array of a \"d x 1\" mean vector\n",
        "        cov = \"numpy array of a d x d\" covariance matrix\n",
        "    '''\n",
        "    assert(mu.shape[0] >= mu.shape[1]), 'mu must be a row vector'\n",
        "    assert(x.shape[0] >= x.shape[1]), 'x must be a row vector'\n",
        "    assert(cov.shape[0] == cov.shape[1]), 'covariance matrix must be square'\n",
        "    assert(mu.shape[0] == cov.shape[0]), 'cov_mat and mu_vec must have the same dimensions'\n",
        "    assert(mu.shape[0] == x.shape[0]), 'mu and x must have the same dimensions'\n",
        "    dim = mu.shape[0]\n",
        "    part1 = 1 / ( ((2* np.pi)**(len(mu)/2)) * (torch.det(cov)**(1/2)) )\n",
        "    part2 = (-1/2) * ((x-mu).transpose(-1,-2).matmul(torch.inverse(cov))).matmul((x-mu))\n",
        "    return part1 * torch.exp(part2)\n",
        "\n",
        "def torch_getLoglikelihood(data, pi, mu, cov):\n",
        "    loglikelihood = sum([torch.log(torch.sum(torch.stack([pi[i]*torch_multivariate_gaussian(x, mu[i], cov[i]) for i in range(len(pi))], dim=0))) for x in data]) / len(data)\n",
        "    return loglikelihood"
      ],
      "execution_count": 0,
      "outputs": []
    },
    {
      "cell_type": "code",
      "metadata": {
        "id": "X4_WAizZJCeg",
        "colab_type": "code",
        "colab": {}
      },
      "source": [
        "def sgd(train_data, dev_data, batch_size=16, max_epoch=10, log_freq=32):\n",
        "    train_data = torch.from_numpy(train_data)\n",
        "    dev_data = torch.from_numpy(dev_data)\n",
        "\n",
        "    sgd_mu = torch.nn.Parameter(torch.from_numpy(np.random.uniform(size=(k, d, 1))))\n",
        "    sgd_cov = torch.nn.Parameter(torch.from_numpy(np.array([np.identity(d) for i in range(k)])))\n",
        "    sgd_pi = torch.nn.Parameter(torch.from_numpy(np.array([1/len(sgd_mu) for i in range(len(sgd_mu))])))\n",
        "\n",
        "    optim = torch.optim.SGD([sgd_pi, sgd_mu, sgd_cov], lr=0.0001)\n",
        "\n",
        "    train_size = len(train_data)\n",
        "    episode = 0\n",
        "    current_batch = []\n",
        "    best_loglikelihood = -torch.tensor(np.infty).double()\n",
        "    last_dev_loglikelihood = -torch.tensor(np.infty).double()\n",
        "    while episode < max_epoch * train_size:\n",
        "        current_batch.append(train_data[episode%train_size])\n",
        "        if len(current_batch) % batch_size == 0:\n",
        "            optim.zero_grad()\n",
        "            current_batch = torch.stack(current_batch, dim=0)\n",
        "            pi_normal = sgd_pi / torch.sum(sgd_pi)\n",
        "            loss = -torch_getLoglikelihood(current_batch, pi_normal, sgd_mu, sgd_cov)\n",
        "            loss.backward()\n",
        "            optim.step()\n",
        "            current_batch = []\n",
        "        if episode % log_freq == log_freq-1:\n",
        "            pi_normal = sgd_pi / torch.sum(sgd_pi)\n",
        "            dev_loglikelihood = torch_getLoglikelihood(dev_data, pi_normal, sgd_mu, sgd_cov)\n",
        "            if dev_loglikelihood > best_loglikelihood:\n",
        "                best_loglikelihood = dev_loglikelihood\n",
        "                best_pi = pi_normal.clone()\n",
        "                best_mu = sgd_mu.clone()\n",
        "                best_cov = sgd_cov.clone()\n",
        "            if torch.abs(dev_loglikelihood-last_dev_loglikelihood) < 1e-6:\n",
        "                print('break')\n",
        "                break\n",
        "            last_dev_loglikelihood = dev_loglikelihood\n",
        "            \n",
        "            print('Current lik: {:.4f}, Best lik: {:.4f}'.format(dev_loglikelihood.item(), best_loglikelihood.item())) \n",
        "        episode += 1\n",
        "         \n",
        "    return best_pi, best_mu, best_cov\n"
      ],
      "execution_count": 0,
      "outputs": []
    },
    {
      "cell_type": "code",
      "metadata": {
        "id": "K2gm2glpJCej",
        "colab_type": "code",
        "outputId": "a5145361-6cd3-4347-baba-cb82456ae865",
        "colab": {
          "base_uri": "https://localhost:8080/",
          "height": 1000
        }
      },
      "source": [
        "tic = time.time()\n",
        "sgd_pis, sgd_mus, sgd_covs = sgd(train_data, dev_data, batch_size=50, max_epoch=1, log_freq=100)\n",
        "toc = time.time()\n",
        "function_formula = ''\n",
        "for i in range(k):\n",
        "    if i != 0:\n",
        "        function_formula += ' + \\n'\n",
        "    function_formula += '{:.4f}*N({}, {})'.format(sgd_pis[i].item(), sgd_mus[i].tolist(), sgd_covs[i].tolist())\n",
        "print('Best Estimate\\t{}'.format(function_formula))"
      ],
      "execution_count": 0,
      "outputs": [
        {
          "output_type": "stream",
          "text": [
            "Current lik: -5.9319, Best lik: -5.9319\n",
            "Current lik: -5.9314, Best lik: -5.9314\n",
            "Current lik: -5.9309, Best lik: -5.9309\n",
            "Current lik: -5.9304, Best lik: -5.9304\n",
            "Current lik: -5.9299, Best lik: -5.9299\n",
            "Current lik: -5.9295, Best lik: -5.9295\n",
            "Current lik: -5.9291, Best lik: -5.9291\n",
            "Current lik: -5.9286, Best lik: -5.9286\n",
            "Current lik: -5.9281, Best lik: -5.9281\n",
            "Current lik: -5.9276, Best lik: -5.9276\n",
            "Current lik: -5.9271, Best lik: -5.9271\n",
            "Current lik: -5.9266, Best lik: -5.9266\n",
            "Current lik: -5.9262, Best lik: -5.9262\n",
            "Current lik: -5.9257, Best lik: -5.9257\n",
            "Current lik: -5.9253, Best lik: -5.9253\n",
            "Current lik: -5.9248, Best lik: -5.9248\n",
            "Current lik: -5.9243, Best lik: -5.9243\n",
            "Current lik: -5.9239, Best lik: -5.9239\n",
            "Current lik: -5.9235, Best lik: -5.9235\n",
            "Current lik: -5.9230, Best lik: -5.9230\n",
            "Current lik: -5.9224, Best lik: -5.9224\n",
            "Current lik: -5.9219, Best lik: -5.9219\n",
            "Current lik: -5.9215, Best lik: -5.9215\n",
            "Current lik: -5.9210, Best lik: -5.9210\n",
            "Current lik: -5.9205, Best lik: -5.9205\n",
            "Current lik: -5.9200, Best lik: -5.9200\n",
            "Current lik: -5.9195, Best lik: -5.9195\n",
            "Current lik: -5.9191, Best lik: -5.9191\n",
            "Current lik: -5.9185, Best lik: -5.9185\n",
            "Current lik: -5.9180, Best lik: -5.9180\n",
            "Current lik: -5.9175, Best lik: -5.9175\n",
            "Current lik: -5.9170, Best lik: -5.9170\n",
            "Current lik: -5.9165, Best lik: -5.9165\n",
            "Current lik: -5.9161, Best lik: -5.9161\n",
            "Current lik: -5.9156, Best lik: -5.9156\n",
            "Current lik: -5.9152, Best lik: -5.9152\n",
            "Current lik: -5.9147, Best lik: -5.9147\n",
            "Current lik: -5.9142, Best lik: -5.9142\n",
            "Current lik: -5.9136, Best lik: -5.9136\n",
            "Current lik: -5.9132, Best lik: -5.9132\n",
            "Current lik: -5.9127, Best lik: -5.9127\n",
            "Current lik: -5.9123, Best lik: -5.9123\n",
            "Current lik: -5.9118, Best lik: -5.9118\n",
            "Current lik: -5.9114, Best lik: -5.9114\n",
            "Current lik: -5.9110, Best lik: -5.9110\n",
            "Current lik: -5.9105, Best lik: -5.9105\n",
            "Current lik: -5.9101, Best lik: -5.9101\n",
            "Current lik: -5.9096, Best lik: -5.9096\n",
            "Current lik: -5.9092, Best lik: -5.9092\n",
            "Current lik: -5.9087, Best lik: -5.9087\n",
            "Current lik: -5.9083, Best lik: -5.9083\n",
            "Current lik: -5.9078, Best lik: -5.9078\n",
            "Current lik: -5.9073, Best lik: -5.9073\n",
            "Current lik: -5.9069, Best lik: -5.9069\n",
            "Current lik: -5.9065, Best lik: -5.9065\n",
            "Current lik: -5.9059, Best lik: -5.9059\n",
            "Current lik: -5.9055, Best lik: -5.9055\n",
            "Current lik: -5.9051, Best lik: -5.9051\n",
            "Current lik: -5.9046, Best lik: -5.9046\n",
            "Current lik: -5.9041, Best lik: -5.9041\n",
            "Current lik: -5.9036, Best lik: -5.9036\n",
            "Current lik: -5.9032, Best lik: -5.9032\n",
            "Current lik: -5.9028, Best lik: -5.9028\n",
            "Current lik: -5.9024, Best lik: -5.9024\n",
            "Current lik: -5.9020, Best lik: -5.9020\n",
            "Current lik: -5.9015, Best lik: -5.9015\n",
            "Current lik: -5.9010, Best lik: -5.9010\n",
            "Current lik: -5.9005, Best lik: -5.9005\n",
            "Current lik: -5.9000, Best lik: -5.9000\n",
            "Current lik: -5.8995, Best lik: -5.8995\n",
            "Current lik: -5.8991, Best lik: -5.8991\n",
            "Current lik: -5.8987, Best lik: -5.8987\n",
            "Current lik: -5.8983, Best lik: -5.8983\n",
            "Current lik: -5.8977, Best lik: -5.8977\n",
            "Current lik: -5.8973, Best lik: -5.8973\n",
            "Current lik: -5.8968, Best lik: -5.8968\n",
            "Current lik: -5.8964, Best lik: -5.8964\n",
            "Current lik: -5.8959, Best lik: -5.8959\n",
            "Current lik: -5.8955, Best lik: -5.8955\n",
            "Current lik: -5.8950, Best lik: -5.8950\n",
            "Current lik: -5.8946, Best lik: -5.8946\n",
            "Current lik: -5.8942, Best lik: -5.8942\n",
            "Current lik: -5.8937, Best lik: -5.8937\n",
            "Current lik: -5.8933, Best lik: -5.8933\n",
            "Current lik: -5.8928, Best lik: -5.8928\n",
            "Current lik: -5.8923, Best lik: -5.8923\n",
            "Current lik: -5.8919, Best lik: -5.8919\n",
            "Current lik: -5.8914, Best lik: -5.8914\n",
            "Current lik: -5.8910, Best lik: -5.8910\n",
            "Current lik: -5.8906, Best lik: -5.8906\n",
            "Current lik: -5.8902, Best lik: -5.8902\n",
            "Current lik: -5.8896, Best lik: -5.8896\n",
            "Current lik: -5.8892, Best lik: -5.8892\n",
            "Current lik: -5.8887, Best lik: -5.8887\n",
            "Current lik: -5.8883, Best lik: -5.8883\n",
            "Current lik: -5.8878, Best lik: -5.8878\n",
            "Current lik: -5.8874, Best lik: -5.8874\n",
            "Current lik: -5.8869, Best lik: -5.8869\n",
            "Current lik: -5.8865, Best lik: -5.8865\n",
            "Current lik: -5.8860, Best lik: -5.8860\n",
            "Current lik: -5.8856, Best lik: -5.8856\n",
            "Current lik: -5.8851, Best lik: -5.8851\n",
            "Current lik: -5.8846, Best lik: -5.8846\n",
            "Current lik: -5.8842, Best lik: -5.8842\n",
            "Current lik: -5.8837, Best lik: -5.8837\n",
            "Current lik: -5.8832, Best lik: -5.8832\n",
            "Current lik: -5.8827, Best lik: -5.8827\n",
            "Current lik: -5.8822, Best lik: -5.8822\n",
            "Current lik: -5.8818, Best lik: -5.8818\n",
            "Current lik: -5.8815, Best lik: -5.8815\n",
            "Current lik: -5.8810, Best lik: -5.8810\n",
            "Current lik: -5.8806, Best lik: -5.8806\n",
            "Current lik: -5.8802, Best lik: -5.8802\n",
            "Current lik: -5.8797, Best lik: -5.8797\n",
            "Current lik: -5.8793, Best lik: -5.8793\n",
            "Current lik: -5.8789, Best lik: -5.8789\n",
            "Current lik: -5.8784, Best lik: -5.8784\n",
            "Current lik: -5.8779, Best lik: -5.8779\n",
            "Current lik: -5.8775, Best lik: -5.8775\n",
            "Current lik: -5.8770, Best lik: -5.8770\n",
            "Current lik: -5.8766, Best lik: -5.8766\n",
            "Current lik: -5.8763, Best lik: -5.8763\n",
            "Current lik: -5.8758, Best lik: -5.8758\n",
            "Current lik: -5.8754, Best lik: -5.8754\n",
            "Current lik: -5.8749, Best lik: -5.8749\n",
            "Current lik: -5.8745, Best lik: -5.8745\n",
            "Current lik: -5.8740, Best lik: -5.8740\n",
            "Current lik: -5.8735, Best lik: -5.8735\n",
            "Current lik: -5.8731, Best lik: -5.8731\n",
            "Current lik: -5.8727, Best lik: -5.8727\n",
            "Current lik: -5.8722, Best lik: -5.8722\n",
            "Current lik: -5.8718, Best lik: -5.8718\n",
            "Current lik: -5.8713, Best lik: -5.8713\n",
            "Current lik: -5.8709, Best lik: -5.8709\n",
            "Current lik: -5.8705, Best lik: -5.8705\n",
            "Current lik: -5.8701, Best lik: -5.8701\n",
            "Current lik: -5.8696, Best lik: -5.8696\n",
            "Current lik: -5.8691, Best lik: -5.8691\n",
            "Current lik: -5.8687, Best lik: -5.8687\n",
            "Current lik: -5.8683, Best lik: -5.8683\n",
            "Current lik: -5.8679, Best lik: -5.8679\n",
            "Current lik: -5.8674, Best lik: -5.8674\n",
            "Current lik: -5.8670, Best lik: -5.8670\n",
            "Current lik: -5.8665, Best lik: -5.8665\n",
            "Current lik: -5.8661, Best lik: -5.8661\n",
            "Current lik: -5.8656, Best lik: -5.8656\n",
            "Current lik: -5.8652, Best lik: -5.8652\n",
            "Current lik: -5.8647, Best lik: -5.8647\n",
            "Current lik: -5.8643, Best lik: -5.8643\n",
            "Current lik: -5.8638, Best lik: -5.8638\n",
            "Current lik: -5.8634, Best lik: -5.8634\n",
            "Current lik: -5.8629, Best lik: -5.8629\n",
            "Current lik: -5.8626, Best lik: -5.8626\n",
            "Current lik: -5.8621, Best lik: -5.8621\n",
            "Current lik: -5.8617, Best lik: -5.8617\n",
            "Current lik: -5.8613, Best lik: -5.8613\n",
            "Current lik: -5.8609, Best lik: -5.8609\n",
            "Current lik: -5.8605, Best lik: -5.8605\n",
            "Current lik: -5.8601, Best lik: -5.8601\n",
            "Current lik: -5.8596, Best lik: -5.8596\n",
            "Best Estimate\t0.3445*N([[0.5785757383109192], [0.038657987958350154]], [[1.0224225791959927, 0.0006832477851812267], [0.0006832477851812267, 1.0185594443201313]]) + 0.3280*N([[0.8918921053320901], [0.7329261883087882]], [[1.0153378573038359, 0.0037955493707320493], [0.0037955493707320506, 1.008623452171822]]) + 0.3276*N([[0.8112126727821495], [0.5001875446085844]], [[1.0160223261174548, 0.0026621648366055603], [0.0026621648366055607, 1.0098755948005402]])\n",
            "Estimated train data log likelihood: -5.8502\n",
            "Estimated dev data log likelihood: -5.8596\n",
            "Estimated test data log likelihood: -5.7937\n"
          ],
          "name": "stdout"
        }
      ]
    },
    {
      "cell_type": "code",
      "metadata": {
        "id": "YHIIisSxfxW_",
        "colab_type": "code",
        "outputId": "4093c891-0890-463e-f4b7-ce5d1ed596cc",
        "colab": {
          "base_uri": "https://localhost:8080/",
          "height": 70
        }
      },
      "source": [
        "sgd_train_loglikelihood = torch_getLoglikelihood(torch.from_numpy(train_data), sgd_pis, sgd_mus, sgd_covs).item()\n",
        "sgd_dev_loglikelihood = torch_getLoglikelihood(torch.from_numpy(dev_data), sgd_pis, sgd_mus, sgd_covs).item()\n",
        "sgd_test_loglikelihood = torch_getLoglikelihood(torch.from_numpy(test_data), sgd_pis, sgd_mus, sgd_covs).item()\n",
        "print('Estimated train data log likelihood: {:.4f}'.format(sgd_train_loglikelihood))\n",
        "print('Estimated dev data log likelihood: {:.4f}'.format(sgd_dev_loglikelihood))\n",
        "print('Estimated test data log likelihood: {:.4f}'.format(sgd_test_loglikelihood))"
      ],
      "execution_count": 0,
      "outputs": [
        {
          "output_type": "stream",
          "text": [
            "Estimated train data log likelihood: -5.8502\n",
            "Estimated dev data log likelihood: -5.8596\n",
            "Estimated test data log likelihood: -5.7937\n"
          ],
          "name": "stdout"
        }
      ]
    },
    {
      "cell_type": "markdown",
      "metadata": {
        "id": "Vt-VHvSOX6zb",
        "colab_type": "text"
      },
      "source": [
        "Now let's have a look at what SGD gives us."
      ]
    },
    {
      "cell_type": "code",
      "metadata": {
        "id": "uUrDL6eLJCek",
        "colab_type": "code",
        "outputId": "9a163fcb-60d4-4b3e-c4ac-6202baf645c2",
        "colab": {
          "base_uri": "https://localhost:8080/",
          "height": 287
        }
      },
      "source": [
        "sgd_prob = np.array([sum([pi * multivariate_gaussian(x, mu, cov) for pi, mu, cov in zip(sgd_pis.detach().numpy(), sgd_mus.detach().numpy(), sgd_covs.detach().numpy())]) for x in grid])\n",
        "plt.contourf(X, Y, sgd_prob.reshape(100,100), 100, cmap=plt.cm.jet)"
      ],
      "execution_count": 0,
      "outputs": [
        {
          "output_type": "execute_result",
          "data": {
            "text/plain": [
              "<matplotlib.contour.QuadContourSet at 0x7fb30f4e8ba8>"
            ]
          },
          "metadata": {
            "tags": []
          },
          "execution_count": 62
        },
        {
          "output_type": "display_data",
          "data": {
            "image/png": "[encoded data removed]",
            "text/plain": [
              "<Figure size 432x288 with 1 Axes>"
            ]
          },
          "metadata": {
            "tags": []
          }
        }
      ]
    },
    {
      "cell_type": "markdown",
      "metadata": {
        "id": "9T0oK_5uYdFG",
        "colab_type": "text"
      },
      "source": [
        "Tha's what we really expected. What's going wrong here?"
      ]
    },
    {
      "cell_type": "markdown",
      "metadata": {
        "id": "x6JECyRlZL7M",
        "colab_type": "text"
      },
      "source": [
        "## Comparison\n",
        "\n",
        "Now let's have a more direct view on what we've got.\n"
      ]
    },
    {
      "cell_type": "code",
      "metadata": {
        "id": "Om300iKAYEw1",
        "colab_type": "code",
        "outputId": "a21fc2d5-6b28-41dd-a8ff-b95b9076ef91",
        "colab": {
          "base_uri": "https://localhost:8080/",
          "height": 230
        }
      },
      "source": [
        "def form_formula(pis, mus, covs, torch=False):\n",
        "  function_formula = ''\n",
        "  if torch:\n",
        "      pis = pis.detach().numpy()\n",
        "      mus = mus.detach().numpy()\n",
        "      covs = covs.detach().numpy()\n",
        "  for i in range(k):\n",
        "      if i != 0:\n",
        "          function_formula += ' + \\n'\n",
        "      \n",
        "      function_formula += '{:.4f}*N({}, {})'.format(pis[i], np.around(mus[i],decimals=4).reshape(d,).tolist(), np.around(covs[i],decimals=4).reshape(d,d).tolist())\n",
        "  return function_formula\n",
        "# print(type(sgd_pis.detach().numpy()))\n",
        "true_model = form_formula(true_pis, true_mus, true_covs)\n",
        "em_model = form_formula(em_pis, em_mus, em_covs)\n",
        "sgd_model = form_formula(sgd_pis, sgd_mus, sgd_covs, torch=True)\n",
        "print('Ground Truth:\\n{}\\nEM Algorithm:\\n{}\\nSGD:\\n{}'.format(true_model, em_model, sgd_model))"
      ],
      "execution_count": 0,
      "outputs": [
        {
          "output_type": "stream",
          "text": [
            "Ground Truth:\n",
            "0.3000*N([2.0, 2.0], [[1.0, 0.0], [0.0, 1.0]]) + \n",
            "0.4000*N([0.0, -2.0], [[0.5, -0.3], [-0.3, 0.5]]) + \n",
            "0.3000*N([-2.5, 1.0], [[0.6, 0.4], [0.4, 0.6]])\n",
            "EM Algorithm:\n",
            "0.2961*N([2.0348, 1.9703], [[0.9956, -0.0105], [-0.0105, 1.0081]]) + \n",
            "0.4020*N([-0.0072, -2.0019], [[0.5027, -0.3025], [-0.3025, 0.5057]]) + \n",
            "0.3019*N([-2.4986, 1.0014], [[0.5824, 0.3943], [0.3943, 0.5983]])\n",
            "SGD:\n",
            "0.3445*N([0.5786, 0.0387], [[1.0224, 0.0007], [0.0007, 1.0186]]) + \n",
            "0.3280*N([0.8919, 0.7329], [[1.0153, 0.0038], [0.0038, 1.0086]]) + \n",
            "0.3276*N([0.8112, 0.5002], [[1.016, 0.0027], [0.0027, 1.0099]])\n"
          ],
          "name": "stdout"
        }
      ]
    },
    {
      "cell_type": "markdown",
      "metadata": {
        "id": "b8iETIMOf5zy",
        "colab_type": "text"
      },
      "source": [
        "Here comes the loglikelihood comparison"
      ]
    },
    {
      "cell_type": "code",
      "metadata": {
        "id": "UD373H7hacmu",
        "colab_type": "code",
        "outputId": "2239cb6f-2985-40df-ac47-8114079a5596",
        "colab": {
          "base_uri": "https://localhost:8080/",
          "height": 287
        }
      },
      "source": [
        "bar_width = 0.25\n",
        "\n",
        "r1 = np.arange(3)\n",
        "r2 = [x + bar_width for x in r1]\n",
        "r3 = [x + bar_width for x in r2]\n",
        "\n",
        "x_name = ['train', 'dev', 'test']\n",
        "true_loglikelihood = [true_train_loglikelihood, true_dev_loglikelihood, true_test_loglikelihood]\n",
        "em_loglikelihood = [em_train_loglikelihood, em_dev_loglikelihood, em_test_loglikelihood]\n",
        "sgd_loglikelihood = [sgd_train_loglikelihood, sgd_dev_loglikelihood, sgd_test_loglikelihood]\n",
        "\n",
        "plt.bar(r1, true_loglikelihood, width=bar_width, label='True')\n",
        "plt.bar(r2, em_loglikelihood, width=bar_width, label='EM')\n",
        "plt.bar(r3, sgd_loglikelihood, width=bar_width, label='SGD')\n",
        "\n",
        "plt.xticks([r + bar_width for r in range(3)], ['Train', 'Dev', 'Test'])\n",
        "plt.legend()\n",
        "\n"
      ],
      "execution_count": 0,
      "outputs": [
        {
          "output_type": "execute_result",
          "data": {
            "text/plain": [
              "<matplotlib.legend.Legend at 0x7fb30f3c7c18>"
            ]
          },
          "metadata": {
            "tags": []
          },
          "execution_count": 86
        },
        {
          "output_type": "display_data",
          "data": {
            "image/png": "[encoded data removed]",
            "text/plain": [
              "<Figure size 432x288 with 1 Axes>"
            ]
          },
          "metadata": {
            "tags": []
          }
        }
      ]
    }
  ]
}