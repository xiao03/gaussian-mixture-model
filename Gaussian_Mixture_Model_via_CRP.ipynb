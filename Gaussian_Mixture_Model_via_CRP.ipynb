{
  "nbformat": 4,
  "nbformat_minor": 0,
  "metadata": {
    "colab": {
      "name": "Gaussian Mixture Model via CRP.ipynb",
      "provenance": []
    },
    "kernelspec": {
      "name": "python3",
      "display_name": "Python 3"
    }
  },
  "cells": [
    {
      "cell_type": "markdown",
      "metadata": {
        "id": "oqnh_GQ28np6",
        "colab_type": "text"
      },
      "source": [
        "## An Exploration of Dirichlet Process Gaussian Mixture Model\n",
        "\n",
        "I will explore the application of dirichlet process, specifically, Chinese Restaurant Process (CRP), on clustering when given data, which is generated from a one-dimensional gaussian mixture model.\n"
      ]
    },
    {
      "cell_type": "code",
      "metadata": {
        "id": "l5PJqFvfP49D",
        "colab_type": "code",
        "colab": {}
      },
      "source": [
        "# Some library we will use\n",
        "import numpy as np\n",
        "import warnings\n",
        "from scipy.special import softmax\n",
        "import matplotlib.pyplot as plt\n",
        "\n",
        "# fix random seed\n",
        "np.random.seed(0)"
      ],
      "execution_count": 0,
      "outputs": []
    },
    {
      "cell_type": "markdown",
      "metadata": {
        "id": "e8xnbSZ6PNtg",
        "colab_type": "text"
      },
      "source": [
        "Before we start, we first define some helper functions, such as the probability density function of normal distribution:"
      ]
    },
    {
      "cell_type": "code",
      "metadata": {
        "id": "Oh1N0DtYPXPh",
        "colab_type": "code",
        "colab": {}
      },
      "source": [
        "def normalPDF(x, mu, scale):\n",
        "    y = (x - mu) / scale\n",
        "    return np.exp(- y ** 2 / 2) / np.sqrt(2 * np.pi) / scale"
      ],
      "execution_count": 0,
      "outputs": []
    },
    {
      "cell_type": "markdown",
      "metadata": {
        "id": "SGJKyR5yPeBC",
        "colab_type": "text"
      },
      "source": [
        "sampling function for sampling from normal-gamma distribution:"
      ]
    },
    {
      "cell_type": "code",
      "metadata": {
        "id": "qBnjqnLDPmn4",
        "colab_type": "code",
        "colab": {}
      },
      "source": [
        "def normalGamma(mu, l, alpha, beta):\n",
        "    tau = np.mean(np.random.gamma(alpha, 1/beta, 100))\n",
        "    m = np.mean(np.random.normal(mu, 1 / (l * tau), 100 ))\n",
        "    return m, tau"
      ],
      "execution_count": 0,
      "outputs": []
    },
    {
      "cell_type": "markdown",
      "metadata": {
        "id": "3iXmgWcJPsoy",
        "colab_type": "text"
      },
      "source": [
        "We use normal-gamma distribution to sample tau instead of sigma for code simplicity "
      ]
    },
    {
      "cell_type": "markdown",
      "metadata": {
        "id": "Gn_MtO3FBKhD",
        "colab_type": "text"
      },
      "source": [
        "### Data\n",
        "\n",
        "Let's first write a class that could generate data from gaussian mixture model. The parameters could be randomly chosen or fixed in advance."
      ]
    },
    {
      "cell_type": "code",
      "metadata": {
        "id": "HIM63jKP8hwh",
        "colab_type": "code",
        "colab": {}
      },
      "source": [
        "class GaussianMixtureOneDim(object):\n",
        "    \"\"\" One dimension Gaussian Mixture Data Generator\n",
        "    \"\"\"\n",
        "    def __init__(self, num_comp, fix_param = {'pi': None, 'mu': None, 'sigma': 1}, params=None):\n",
        "        super(GaussianMixtureOneDim, self).__init__()\n",
        "        self.num_comp = num_comp\n",
        "        assert self.num_comp > 0, 'Invalid number of components.'\n",
        "        # self.size = size\n",
        "        self.dim = 1 \n",
        "        if params:\n",
        "            self.pi = params['pi']\n",
        "            self.mu = params['mu']\n",
        "            self.sigma = params['sigma']\n",
        "            assert len(self.pi) == self.num_comp, 'Parameter pi number mismatch.'\n",
        "            assert len(self.mu) == self.num_comp, 'Parameter pi number mismatch.'\n",
        "            assert len(self.sigma) == self.num_comp, 'Parameter pi number mismatch.'\n",
        "        else:\n",
        "            self.pi, self.mu, self.sigma = self._randomGenerate(fix_param = fix_param)\n",
        "\n",
        "    def __str__(self):\n",
        "        weights = []\n",
        "        output_str = []\n",
        "        for idx in range(self.num_comp):\n",
        "            weights.append(-self.pi[idx])\n",
        "            output_str.append('{:.2f} * N({:.2f}, {:.2f})'.format(self.pi[idx], self.mu[idx], self.sigma[idx]))\n",
        "\n",
        "        out = [x for _, x in sorted(zip(weights, output_str))]\n",
        "        return ' + '.join(out) \n",
        "\n",
        "    def _randomGenerate(self, fix_param):\n",
        "        \"\"\" Random generate parameters, could fix to specific values\n",
        "        \"\"\"\n",
        "        np.random.seed(1024)\n",
        "        if not fix_param['pi']:\n",
        "            pi = softmax(np.random.random(size=[self.num_comp, ]))\n",
        "        else:\n",
        "            if type(fix_param['mu']) != list:\n",
        "                if not np.isclose(fix_param['mu'] * self.num_comp, 1):\n",
        "                    warnings.warn('Sum of pi is not one, change to {:.2f}'.format(1.0/self.num_comp))\n",
        "                mu = np.array([1.0/self.num_comp for _ in range(self.num_comp)]).reshape(self.num_comp, )\n",
        "            else:\n",
        "                assert len(fix_param['mu']) == self.num_comp, 'Fixed number of mu mismatch'\n",
        "                assert np.isclose(np.sum(fix_param['pi']), 1), 'Sum of mixing propotions is not 1'\n",
        "                pi = np.array(fix_param['pi']).reshape(self.num_comp, )\n",
        "        \n",
        "        if not fix_param['mu']:\n",
        "            mu = np.random.random(size=[self.num_comp, ]) * self.num_comp\n",
        "        else:\n",
        "            if type(fix_param['mu']) != list:\n",
        "                mu = np.array([fix_param['mu'] for _ in range(self.num_comp)]).reshape(self.num_comp, )\n",
        "            else:\n",
        "                assert len(fix_param['mu']) == self.num_comp, 'Fixed number of mu mismatch'\n",
        "                mu = np.array(fix_param['mu']).reshape(self.num_comp, )\n",
        "        if not fix_param['sigma']:\n",
        "            sigma = np.random.random(size=[self.num_comp, ])\n",
        "        else:\n",
        "            if type(fix_param['sigma']) != list:\n",
        "                sigma = np.array([fix_param['sigma'] for _ in range(self.num_comp)]).reshape(self.num_comp, )\n",
        "            else:\n",
        "                assert len(fix_param['sigma']) == self.num_comp, 'Fixed number of sigma mismatch'\n",
        "                sigma = np.array(fix_param['sigma']).reshape(self.num_comp, )\n",
        "        \n",
        "        return pi, mu, sigma\n",
        "    \n",
        "    def pdf(self, X):\n",
        "        Y = [0.]*len(X)\n",
        "        for idx in range(self.num_comp):\n",
        "            Y += self.pi[idx] * normalPDF(X, mu=self.mu[idx], scale=self.sigma[idx])\n",
        "        return Y\n",
        "\n",
        "    def plot(self):\n",
        "        r = max(self.mu) + max(self.sigma) * 3 \n",
        "        X = np.arange(-r, r, 0.1)\n",
        "        Y = self.pdf(X)\n",
        "        plt.plot(X, Y)\n",
        "        plt.show()\n",
        "\n",
        "    def _generateSingleComponent(self, idx, N):\n",
        "        return self.pi[idx] * np.random.normal(loc=self.mu[idx], scale=self.sigma[idx], size=[N, self.dim])\n",
        "    \n",
        "    def generateData(self, N, show=False):\n",
        "        data = np.zeros(shape=[N, self.dim])\n",
        "        k_choices = np.random.choice(a=self.num_comp, size=N, p=self.pi)\n",
        "\n",
        "        for idx in range(N):\n",
        "            data[idx] = np.random.normal(loc=self.mu[k_choices[idx]], scale=self.sigma[k_choices[idx]])\n",
        "        # for idx in range(self.num_comp):\n",
        "            # data += self._generateSingleComponent(idx, N)\n",
        "        \n",
        "        if show:\n",
        "            print(\"---Showing some datapoints---\")\n",
        "            for i in range(min(5, N)):\n",
        "                print('Datapoint {}:\\t'.format(i), data[i])\n",
        "            print(\"------------End--------------\")\n",
        "\n",
        "        return data\n",
        "\n",
        "    def dumpData(self, data, path='./'):\n",
        "        np.save(path+'gmm-{}.npy'.format(data.shape[0]), data)"
      ],
      "execution_count": 0,
      "outputs": []
    },
    {
      "cell_type": "markdown",
      "metadata": {
        "id": "D3ItmFteNADw",
        "colab_type": "text"
      },
      "source": [
        "For simplicity, in this homework, I will fix the parameters to have the following Gaussian Mixture:\n",
        "$$\n",
        "0.3\\mathcal{N}(-3, 1) + 0.4\\mathcal{N}(0, 1) + 0.3\\mathcal{N}(3, 1)\n",
        "$$\n",
        "From now on, I will refer this distribution as *True distribution* since it is where our data is sampled. To make sure we have sufficient data, we generate ten thousand data points. "
      ]
    },
    {
      "cell_type": "code",
      "metadata": {
        "id": "6zNCijJwMr7n",
        "colab_type": "code",
        "outputId": "30278d0b-290f-43be-bdd3-28e31634eea8",
        "colab": {
          "base_uri": "https://localhost:8080/",
          "height": 136
        }
      },
      "source": [
        "gmm = GaussianMixtureOneDim(num_comp = 3, fix_param={'pi': [0.3, 0.4, 0.3], 'mu': [-3 , 0, 3], 'sigma': 1})\n",
        "data = gmm.generateData(N = 10000, show=True)"
      ],
      "execution_count": 0,
      "outputs": [
        {
          "output_type": "stream",
          "text": [
            "---Showing some datapoints---\n",
            "Datapoint 0:\t [0.75316665]\n",
            "Datapoint 1:\t [5.58322062]\n",
            "Datapoint 2:\t [-0.49462158]\n",
            "Datapoint 3:\t [0.82718506]\n",
            "Datapoint 4:\t [0.21530848]\n",
            "------------End--------------\n"
          ],
          "name": "stdout"
        }
      ]
    },
    {
      "cell_type": "markdown",
      "metadata": {
        "id": "KXTQ9HM0N4xx",
        "colab_type": "text"
      },
      "source": [
        "The code above shows the first 5 data points in the dataset. Now let's look at histogram (with 20 bins) of these 10k data points"
      ]
    },
    {
      "cell_type": "code",
      "metadata": {
        "id": "ii2n1tq6NyhA",
        "colab_type": "code",
        "outputId": "1c3a2b4d-a172-49fa-d7c9-cf65d5ef935b",
        "colab": {
          "base_uri": "https://localhost:8080/",
          "height": 418
        }
      },
      "source": [
        "plt.hist(data.reshape(-1,), bins=20)"
      ],
      "execution_count": 0,
      "outputs": [
        {
          "output_type": "execute_result",
          "data": {
            "text/plain": [
              "(array([  15.,   42.,  148.,  408.,  663.,  760.,  671.,  572.,  752.,\n",
              "        1026.,  971.,  718.,  591.,  686.,  765.,  657.,  376.,  148.,\n",
              "          29.,    2.]),\n",
              " array([-6.39667038, -5.75041209, -5.10415379, -4.4578955 , -3.81163721,\n",
              "        -3.16537891, -2.51912062, -1.87286232, -1.22660403, -0.58034573,\n",
              "         0.06591256,  0.71217086,  1.35842915,  2.00468745,  2.65094574,\n",
              "         3.29720404,  3.94346233,  4.58972063,  5.23597892,  5.88223722,\n",
              "         6.52849551]),\n",
              " <a list of 20 Patch objects>)"
            ]
          },
          "metadata": {
            "tags": []
          },
          "execution_count": 18
        },
        {
          "output_type": "display_data",
          "data": {
            "image/png": "[encoded data removed]",
            "text/plain": [
              "<Figure size 432x288 with 1 Axes>"
            ]
          },
          "metadata": {
            "tags": []
          }
        }
      ]
    },
    {
      "cell_type": "markdown",
      "metadata": {
        "id": "_APJox44OwAq",
        "colab_type": "text"
      },
      "source": [
        "As a comparison, let's have a look at the probability density function of true distribution."
      ]
    },
    {
      "cell_type": "code",
      "metadata": {
        "id": "uO2QZyBnOvY7",
        "colab_type": "code",
        "outputId": "29c9a907-c6a8-49da-8764-f4d4e8ac4f6c",
        "colab": {
          "base_uri": "https://localhost:8080/",
          "height": 265
        }
      },
      "source": [
        "gmm.plot()"
      ],
      "execution_count": 0,
      "outputs": [
        {
          "output_type": "display_data",
          "data": {
            "image/png": "[encoded data removed]",
            "text/plain": [
              "<Figure size 432x288 with 1 Axes>"
            ]
          },
          "metadata": {
            "tags": []
          }
        }
      ]
    },
    {
      "cell_type": "markdown",
      "metadata": {
        "id": "LCvAmBFdO6tA",
        "colab_type": "text"
      },
      "source": [
        "As we can see, the histogram is pretty close to the probability density function, which suggests that our data is reliable and representative enough for a model to learn from."
      ]
    },
    {
      "cell_type": "markdown",
      "metadata": {
        "id": "pOgFs_TXPH3Q",
        "colab_type": "text"
      },
      "source": [
        "### Gaussian Component\n"
      ]
    },
    {
      "cell_type": "markdown",
      "metadata": {
        "id": "77MxIiryQNTc",
        "colab_type": "text"
      },
      "source": [
        "We will use Gaussian distribution as the base distribution. In the Dirichlet process, each component will be a Gaussian distribution. Since we generate data from a Gaussian Mixture, a Gaussian component is reasonable. We do not discuss the choice of base distribution here."
      ]
    },
    {
      "cell_type": "code",
      "metadata": {
        "id": "h6s7DydnO5wt",
        "colab_type": "code",
        "colab": {}
      },
      "source": [
        "class GaussianComponent(object):\n",
        "    \"\"\"\n",
        "    \"\"\"\n",
        "    def __init__(self, params, fix_tau=True):\n",
        "        super().__init__()\n",
        "        self.mu0 = params['mu0']\n",
        "        self.lambda0 = params['sigma0']\n",
        "        self.a0 = params['a0']\n",
        "        self.b0 = params['b0']\n",
        "        \n",
        "        self.sigma = 1\n",
        "        self.num = 0\n",
        "\n",
        "        # sum of the data\n",
        "        self.sum = 0.\n",
        "        # sum of the squared data\n",
        "        self.sum2 = 0.\n",
        "\n",
        "        self.fix_tau = fix_tau\n",
        "\n",
        "    # print current Gaussian component\n",
        "    def __str__(self):\n",
        "        self.posterior() # update parameter\n",
        "        mu_mean = float(self.mu)\n",
        "        if self.fix_tau:\n",
        "            sigma2_mean = 1\n",
        "        else:\n",
        "            sigma2_mean = float((self.b / self.a)**2)\n",
        "        return 'N({:.2f}, {:.2f})'.format(mu_mean, sigma2_mean)\n",
        "    \n",
        "    # add a new data point into this component\n",
        "    def add(self, x):\n",
        "        self.num += 1\n",
        "        self.sum += x\n",
        "        self.sum2 += x ** 2\n",
        "    \n",
        "    # delete a data point from this component\n",
        "    def delete(self, x):\n",
        "        self.num -= 1\n",
        "        self.sum -= x\n",
        "        self.sum2 -= x ** 2\n",
        "    \n",
        "    # calculate the posterior parameters of mu and tau\n",
        "    def posterior(self):\n",
        "        if self.num == 0:\n",
        "            self.mu = self.mu0\n",
        "            self.l = self.lambda0\n",
        "            self.a = self.a0\n",
        "            self.b = self.b0         \n",
        "        else:\n",
        "            self.mu = (self.mu0 * self.lambda0 + self.sum) / (self.lambda0 + self.num) \n",
        "            self.l = self.lambda0 + self.num\n",
        "            self.a = self.a0 + self.num / 2.0\n",
        "            self.b = self.b0 + 0.5 * (self.sum2 - self.sum**2/self.num + (self.lambda0 * self.num * (self.sum/self.num - self.mu0) ** 2 ) / (self.lambda0 + self.num))\n",
        "\n",
        "        return normalGamma(mu=self.mu, l=self.l, alpha=self.a, beta=self.b)\n",
        "    \n",
        "    # calculate the probability density function given data X\n",
        "    def pdf(self, X):\n",
        "        m, tau = self.posterior()\n",
        "        if self.fix_tau:\n",
        "            tau = 1\n",
        "\n",
        "        return normalPDF(X, m, 1/tau)"
      ],
      "execution_count": 0,
      "outputs": []
    },
    {
      "cell_type": "markdown",
      "metadata": {
        "id": "i4CQAyrAQ7T0",
        "colab_type": "text"
      },
      "source": [
        "We define the Gaussian component only with its sufficient statistics, i.e. the sum of the data, the sum of the squared data, and the number of datapoints belongs to this component. When we add/detele a data point into/from this component, we modify these three statistics to calculate the posterior parameters as well as the probability density. It's prior is given by the Dirichlet process which take it as a component, we will cover the priors later."
      ]
    },
    {
      "cell_type": "markdown",
      "metadata": {
        "id": "PHFA7xvyRpjR",
        "colab_type": "text"
      },
      "source": [
        "After we define the component, now we could define a Dirichlet process Gaussian Mixture model:\n"
      ]
    },
    {
      "cell_type": "code",
      "metadata": {
        "id": "XlYrZAaROe1N",
        "colab_type": "code",
        "colab": {}
      },
      "source": [
        "class DPGaussianMixture:\n",
        "    def __init__(self, params: dict = {'mu0': 0, 'sigma0': 1, 'a0': 0.02, 'b0': 5}, fix_tau=False, alpha: int = 1):\n",
        "        \"\"\" The base distribution is Gaussian\n",
        "        Arguments:\n",
        "            @params: hyperparameters/prior parameters that control the base distribution.\n",
        "            @alpha: strength parameter.\n",
        "        Attributes:\n",
        "            @params: dict, See above\n",
        "            @alpha: int, See above\n",
        "            @data: list, the dataset \n",
        "            @assignments: dict, The group each datapoint is assigned to, index of datapoints in the dataset to group index\n",
        "            @components: list, Gaussian Components\n",
        "        \"\"\"\n",
        "        self.params = params\n",
        "        self.fix_tau = fix_tau\n",
        "        self.alpha = alpha\n",
        "        self._initialize()\n",
        "\n",
        "    # print dirichlet process, with a descending weights.\n",
        "    def __str__(self):\n",
        "        num_points = [-comp.num for comp in self.components]\n",
        "        num_points_sum = sum(num_points)\n",
        "        component_output = ['{:.2f} * {}'.format(-comp.num/num_points_sum, comp) for comp in self.components]\n",
        "        out = [x for _, x in sorted(zip(num_points, component_output))]\n",
        "        return ' + '.join(out)\n",
        "    \n",
        "    # re-initialize the components, data, and data assignment\n",
        "    def _initialize(self):\n",
        "        self.assignments = {}\n",
        "        self.components = []\n",
        "        self.data = []\n",
        "    \n",
        "    # load a dataset\n",
        "    def loadData(self, data):\n",
        "        self._initialize()\n",
        "        self.data = data\n",
        "\n",
        "    # run gibbs sampling to learn the parameters.\n",
        "    def gibbsSampling(self, itr=10):\n",
        "        for e in range(itr):\n",
        "            print('Epoch {}...'.format(e))\n",
        "            for i in range(len(self.data)-1, -1, -1):\n",
        "                x = self.data[i]\n",
        "                # if i == 9000:\n",
        "                #     break\n",
        "                if i in self.assignments.keys(): \n",
        "                    # If data i is already assigned, delete it from it's cluster\n",
        "                    j = self.assignments[i]\n",
        "                    self.components[j].delete(x)\n",
        "                    if self.components[j].num == 0:\n",
        "                        # If this cluster j has no data left, delete it and decrease the index of following clusters by one\n",
        "                        del self.components[j]\n",
        "                        for i, k in self.assignments.items():\n",
        "                            self.assignments[i] -= int(k>j)\n",
        "                \n",
        "                # Re-assign this data point\n",
        "                # Create the num_components + 1 components, assign x to one of them.\n",
        "                propotions = [comp.num * float(comp.pdf(x)) for comp in self.components]\n",
        "                propotions.append(self.alpha * float(GaussianComponent(self.params, fix_tau=self.fix_tau).pdf(x)))\n",
        "                \n",
        "                \n",
        "                if len(propotions) == 1:\n",
        "                    propotion_probs = [1.]\n",
        "                elif np.isclose(sum(propotions), 0):\n",
        "                    propotion_probs = [1. /len(propotions) for _ in range(len(propotions))]\n",
        "                else:\n",
        "                    propotions_sum = sum(propotions)\n",
        "                    try:\n",
        "                        propotion_probs = [prop / propotions_sum for prop in propotions]\n",
        "                    except ZeroDivisionError:\n",
        "                        import ipdb; ipdb.set_trace()\n",
        "                \n",
        "                try:\n",
        "                    new_assignment = np.random.choice(len(propotions), p=propotion_probs)\n",
        "                except ValueError:\n",
        "                    import ipdb; ipdb.set_trace()\n",
        "                if new_assignment == len(propotions) - 1:\n",
        "                    # Choose to add a new component\n",
        "                    self.components.append(GaussianComponent(self.params, fix_tau=self.fix_tau))\n",
        "\n",
        "                self.components[new_assignment].add(x)  \n",
        "            # After each epoch, print current process to see if we reach a convergence\n",
        "            print(self) \n",
        "\n",
        "    def pdf(self, X):\n",
        "        component_alphas = [comp.num for comp in self.components]\n",
        "        component_alphas.append(self.alpha)\n",
        "        p = list(np.random.dirichlet(component_alphas))\n",
        "\n",
        "        # Use stick-breaking for additional space with a tolerance of 0.01\n",
        "        tolerance = 0.01\n",
        "        while p[-1] > tolerance:\n",
        "            b = np.random.beta(1, self.alpha)\n",
        "            k = len(p)\n",
        "            p[k-1] = p[-1] * b\n",
        "            p.append(p[-1] * (1-b))\n",
        "\n",
        "        new_comp = GaussianComponent(self.params, fix_tau=self.fix_tau)\n",
        "        \n",
        "        Y = [0.]*len(X)\n",
        "        for k in range(len(p)):\n",
        "            if k < len(self.components):\n",
        "                Y += p[k] * self.components[k].pdf(X)\n",
        "            else:\n",
        "                Y += p[k] * new_comp.pdf(X)\n",
        "        return Y"
      ],
      "execution_count": 0,
      "outputs": []
    },
    {
      "cell_type": "markdown",
      "metadata": {
        "id": "CUcCUk4FSrv4",
        "colab_type": "text"
      },
      "source": [
        "The above code defines a Dirichlet process with Gaussian distribution as its base distribution. Assign prior parameters to the Gaussian components. The prior is chosen to have an expectation on $\\mu$ of 0 and on $\\tau$ of 0.1, which is a standard normal distribution"
      ]
    },
    {
      "cell_type": "markdown",
      "metadata": {
        "id": "Mr07IVJ5TMaj",
        "colab_type": "text"
      },
      "source": [
        "Now, let's run 20 epochs on the data we generated with Gibbs sampling and fix the $\\tau$ (also the variance) to be 1, with the strength parameter $\\alpha=1$."
      ]
    },
    {
      "cell_type": "code",
      "metadata": {
        "id": "f7FmOY6FSoSY",
        "colab_type": "code",
        "outputId": "7d722ae8-a5e8-44d4-be00-5cdd8f53b038",
        "colab": {
          "base_uri": "https://localhost:8080/",
          "height": 717
        }
      },
      "source": [
        "np.random.seed(0)\n",
        "dpgmm = DPGaussianMixture(fix_tau=True, alpha=1)\n",
        "dpgmm.loadData(data)\n",
        "dpgmm.gibbsSampling(itr=20)"
      ],
      "execution_count": 0,
      "outputs": [
        {
          "output_type": "stream",
          "text": [
            "Epoch 0...\n",
            "0.29 * N(-2.99, 1.00) + 0.28 * N(3.11, 1.00) + 0.14 * N(0.71, 1.00) + 0.09 * N(-0.23, 1.00) + 0.06 * N(-0.70, 1.00) + 0.04 * N(0.24, 1.00) + 0.04 * N(0.14, 1.00) + 0.04 * N(-0.01, 1.00) + 0.02 * N(-0.36, 1.00) + 0.00 * N(-1.09, 1.00) + 0.00 * N(-0.34, 1.00) + 0.00 * N(-0.48, 1.00) + 0.00 * N(0.69, 1.00)\n",
            "Epoch 1...\n",
            "0.29 * N(-2.99, 1.00) + 0.28 * N(3.10, 1.00) + 0.13 * N(0.70, 1.00) + 0.09 * N(-0.24, 1.00) + 0.06 * N(-0.68, 1.00) + 0.04 * N(0.20, 1.00) + 0.04 * N(0.06, 1.00) + 0.04 * N(0.14, 1.00) + 0.02 * N(-0.33, 1.00) + 0.00 * N(-1.12, 1.00) + 0.00 * N(-0.72, 1.00) + 0.00 * N(-0.56, 1.00) + 0.00 * N(0.69, 1.00)\n",
            "Epoch 2...\n",
            "0.29 * N(-3.00, 1.00) + 0.28 * N(3.10, 1.00) + 0.13 * N(0.69, 1.00) + 0.09 * N(-0.26, 1.00) + 0.06 * N(-0.67, 1.00) + 0.05 * N(0.18, 1.00) + 0.04 * N(0.05, 1.00) + 0.04 * N(0.15, 1.00) + 0.02 * N(-0.31, 1.00) + 0.00 * N(-1.06, 1.00) + 0.00 * N(-0.52, 1.00) + 0.00 * N(-0.32, 1.00) + 0.00 * N(0.81, 1.00)\n",
            "Epoch 3...\n",
            "0.29 * N(-3.01, 1.00) + 0.29 * N(3.09, 1.00) + 0.13 * N(0.68, 1.00) + 0.09 * N(-0.25, 1.00) + 0.06 * N(-0.69, 1.00) + 0.05 * N(0.18, 1.00) + 0.04 * N(0.07, 1.00) + 0.04 * N(0.13, 1.00) + 0.02 * N(-0.32, 1.00) + 0.00 * N(-1.02, 1.00) + 0.00 * N(-0.42, 1.00) + 0.00 * N(-0.29, 1.00) + 0.00 * N(0.56, 1.00)\n",
            "Epoch 4...\n",
            "0.29 * N(-3.01, 1.00) + 0.29 * N(3.09, 1.00) + 0.13 * N(0.68, 1.00) + 0.09 * N(-0.25, 1.00) + 0.06 * N(-0.68, 1.00) + 0.05 * N(0.17, 1.00) + 0.04 * N(0.12, 1.00) + 0.04 * N(0.06, 1.00) + 0.02 * N(-0.33, 1.00) + 0.00 * N(-1.01, 1.00) + 0.00 * N(-0.37, 1.00) + 0.00 * N(-0.40, 1.00) + 0.00 * N(0.48, 1.00) + 0.00 * N(0.42, 1.00)\n",
            "Epoch 5...\n",
            "0.29 * N(-3.01, 1.00) + 0.29 * N(3.10, 1.00) + 0.13 * N(0.67, 1.00) + 0.09 * N(-0.25, 1.00) + 0.06 * N(-0.68, 1.00) + 0.05 * N(0.17, 1.00) + 0.04 * N(0.11, 1.00) + 0.04 * N(0.07, 1.00) + 0.02 * N(-0.33, 1.00) + 0.00 * N(-0.97, 1.00) + 0.00 * N(-0.40, 1.00) + 0.00 * N(-0.40, 1.00) + 0.00 * N(0.84, 1.00) + 0.00 * N(0.42, 1.00) + 0.00 * N(0.50, 1.00)\n",
            "Epoch 6...\n",
            "0.29 * N(-3.01, 1.00) + 0.29 * N(3.10, 1.00) + 0.13 * N(0.67, 1.00) + 0.09 * N(-0.24, 1.00) + 0.06 * N(-0.68, 1.00) + 0.05 * N(0.16, 1.00) + 0.04 * N(0.09, 1.00) + 0.04 * N(0.05, 1.00) + 0.02 * N(-0.31, 1.00) + 0.00 * N(-0.95, 1.00) + 0.00 * N(-0.31, 1.00) + 0.00 * N(-0.63, 1.00) + 0.00 * N(0.95, 1.00) + 0.00 * N(0.42, 1.00) + 0.00 * N(0.50, 1.00)\n",
            "Epoch 7...\n",
            "0.29 * N(-3.01, 1.00) + 0.29 * N(3.10, 1.00) + 0.13 * N(0.67, 1.00) + 0.09 * N(-0.24, 1.00) + 0.06 * N(-0.67, 1.00) + 0.05 * N(0.17, 1.00) + 0.04 * N(0.09, 1.00) + 0.04 * N(0.05, 1.00) + 0.02 * N(-0.31, 1.00) + 0.00 * N(-0.97, 1.00) + 0.00 * N(-0.22, 1.00) + 0.00 * N(-0.63, 1.00) + 0.00 * N(0.95, 1.00) + 0.00 * N(-0.06, 1.00) + 0.00 * N(0.50, 1.00)\n",
            "Epoch 8...\n",
            "0.29 * N(-3.01, 1.00) + 0.29 * N(3.10, 1.00) + 0.13 * N(0.67, 1.00) + 0.09 * N(-0.25, 1.00) + 0.06 * N(-0.68, 1.00) + 0.05 * N(0.17, 1.00) + 0.04 * N(0.10, 1.00) + 0.04 * N(0.05, 1.00) + 0.02 * N(-0.31, 1.00) + 0.00 * N(-0.98, 1.00) + 0.00 * N(-0.14, 1.00) + 0.00 * N(-0.63, 1.00) + 0.00 * N(0.95, 1.00) + 0.00 * N(-0.06, 1.00) + 0.00 * N(-0.59, 1.00) + 0.00 * N(0.50, 1.00)\n",
            "Epoch 9...\n",
            "0.29 * N(-3.01, 1.00) + 0.29 * N(3.09, 1.00) + 0.13 * N(0.66, 1.00) + 0.09 * N(-0.25, 1.00) + 0.06 * N(-0.68, 1.00) + 0.05 * N(0.16, 1.00) + 0.04 * N(0.10, 1.00) + 0.04 * N(0.04, 1.00) + 0.02 * N(-0.32, 1.00) + 0.00 * N(-0.97, 1.00) + 0.00 * N(-0.18, 1.00) + 0.00 * N(-0.63, 1.00) + 0.00 * N(0.95, 1.00) + 0.00 * N(-0.06, 1.00) + 0.00 * N(-0.59, 1.00) + 0.00 * N(0.50, 1.00)\n",
            "Epoch 10...\n",
            "0.29 * N(-3.02, 1.00) + 0.29 * N(3.09, 1.00) + 0.13 * N(0.66, 1.00) + 0.09 * N(-0.25, 1.00) + 0.06 * N(-0.68, 1.00) + 0.05 * N(0.16, 1.00) + 0.04 * N(0.10, 1.00) + 0.04 * N(0.04, 1.00) + 0.02 * N(-0.32, 1.00) + 0.00 * N(-0.95, 1.00) + 0.00 * N(-0.18, 1.00) + 0.00 * N(-0.74, 1.00) + 0.00 * N(0.95, 1.00) + 0.00 * N(-0.06, 1.00) + 0.00 * N(-0.59, 1.00) + 0.00 * N(0.50, 1.00) + 0.00 * N(1.50, 1.00)\n",
            "Epoch 11...\n",
            "0.29 * N(-3.02, 1.00) + 0.29 * N(3.09, 1.00) + 0.13 * N(0.66, 1.00) + 0.09 * N(-0.25, 1.00) + 0.06 * N(-0.68, 1.00) + 0.05 * N(0.15, 1.00) + 0.04 * N(0.09, 1.00) + 0.04 * N(0.04, 1.00) + 0.02 * N(-0.32, 1.00) + 0.00 * N(-0.93, 1.00) + 0.00 * N(-0.15, 1.00) + 0.00 * N(-0.82, 1.00) + 0.00 * N(0.95, 1.00) + 0.00 * N(-0.06, 1.00) + 0.00 * N(-0.59, 1.00) + 0.00 * N(0.50, 1.00) + 0.00 * N(1.50, 1.00)\n",
            "Epoch 12...\n",
            "0.29 * N(-3.02, 1.00) + 0.29 * N(3.09, 1.00) + 0.13 * N(0.66, 1.00) + 0.09 * N(-0.25, 1.00) + 0.06 * N(-0.68, 1.00) + 0.05 * N(0.15, 1.00) + 0.04 * N(0.08, 1.00) + 0.04 * N(0.04, 1.00) + 0.02 * N(-0.32, 1.00) + 0.00 * N(-0.94, 1.00) + 0.00 * N(-0.13, 1.00) + 0.00 * N(-0.82, 1.00) + 0.00 * N(1.30, 1.00) + 0.00 * N(-0.06, 1.00) + 0.00 * N(-0.59, 1.00) + 0.00 * N(0.50, 1.00) + 0.00 * N(1.50, 1.00)\n",
            "Epoch 13...\n",
            "0.29 * N(-3.02, 1.00) + 0.29 * N(3.09, 1.00) + 0.13 * N(0.66, 1.00) + 0.09 * N(-0.25, 1.00) + 0.06 * N(-0.68, 1.00) + 0.05 * N(0.14, 1.00) + 0.04 * N(0.09, 1.00) + 0.04 * N(0.04, 1.00) + 0.02 * N(-0.32, 1.00) + 0.00 * N(-0.96, 1.00) + 0.00 * N(-0.14, 1.00) + 0.00 * N(-0.75, 1.00) + 0.00 * N(1.34, 1.00) + 0.00 * N(-0.06, 1.00) + 0.00 * N(-0.59, 1.00) + 0.00 * N(0.50, 1.00) + 0.00 * N(1.50, 1.00)\n",
            "Epoch 14...\n",
            "0.29 * N(-3.02, 1.00) + 0.29 * N(3.09, 1.00) + 0.13 * N(0.66, 1.00) + 0.09 * N(-0.25, 1.00) + 0.06 * N(-0.68, 1.00) + 0.05 * N(0.14, 1.00) + 0.04 * N(0.09, 1.00) + 0.04 * N(0.04, 1.00) + 0.02 * N(-0.33, 1.00) + 0.00 * N(-0.95, 1.00) + 0.00 * N(-0.16, 1.00) + 0.00 * N(-0.75, 1.00) + 0.00 * N(1.23, 1.00) + 0.00 * N(-0.06, 1.00) + 0.00 * N(-0.59, 1.00) + 0.00 * N(0.50, 1.00) + 0.00 * N(1.50, 1.00)\n",
            "Epoch 15...\n",
            "0.29 * N(-3.02, 1.00) + 0.29 * N(3.09, 1.00) + 0.13 * N(0.66, 1.00) + 0.09 * N(-0.25, 1.00) + 0.06 * N(-0.68, 1.00) + 0.05 * N(0.14, 1.00) + 0.04 * N(0.09, 1.00) + 0.04 * N(0.04, 1.00) + 0.02 * N(-0.33, 1.00) + 0.00 * N(-0.95, 1.00) + 0.00 * N(-0.17, 1.00) + 0.00 * N(-0.72, 1.00) + 0.00 * N(1.23, 1.00) + 0.00 * N(-0.06, 1.00) + 0.00 * N(-0.59, 1.00) + 0.00 * N(0.50, 1.00) + 0.00 * N(1.50, 1.00)\n",
            "Epoch 16...\n",
            "0.29 * N(-3.02, 1.00) + 0.29 * N(3.09, 1.00) + 0.13 * N(0.66, 1.00) + 0.09 * N(-0.25, 1.00) + 0.06 * N(-0.68, 1.00) + 0.05 * N(0.14, 1.00) + 0.04 * N(0.09, 1.00) + 0.04 * N(0.04, 1.00) + 0.02 * N(-0.33, 1.00) + 0.00 * N(-0.96, 1.00) + 0.00 * N(-0.19, 1.00) + 0.00 * N(-0.73, 1.00) + 0.00 * N(1.23, 1.00) + 0.00 * N(-0.06, 1.00) + 0.00 * N(-0.59, 1.00) + 0.00 * N(0.50, 1.00) + 0.00 * N(1.50, 1.00)\n",
            "Epoch 17...\n",
            "0.29 * N(-3.02, 1.00) + 0.29 * N(3.09, 1.00) + 0.13 * N(0.66, 1.00) + 0.09 * N(-0.25, 1.00) + 0.06 * N(-0.67, 1.00) + 0.05 * N(0.14, 1.00) + 0.04 * N(0.10, 1.00) + 0.04 * N(0.04, 1.00) + 0.02 * N(-0.34, 1.00) + 0.00 * N(-0.97, 1.00) + 0.00 * N(-0.22, 1.00) + 0.00 * N(-0.73, 1.00) + 0.00 * N(1.23, 1.00) + 0.00 * N(-0.06, 1.00) + 0.00 * N(-0.59, 1.00) + 0.00 * N(0.50, 1.00) + 0.00 * N(1.50, 1.00)\n",
            "Epoch 18...\n",
            "0.29 * N(-3.02, 1.00) + 0.29 * N(3.09, 1.00) + 0.13 * N(0.66, 1.00) + 0.09 * N(-0.25, 1.00) + 0.06 * N(-0.67, 1.00) + 0.05 * N(0.14, 1.00) + 0.04 * N(0.10, 1.00) + 0.04 * N(0.04, 1.00) + 0.02 * N(-0.35, 1.00) + 0.00 * N(-0.96, 1.00) + 0.00 * N(-0.18, 1.00) + 0.00 * N(-0.70, 1.00) + 0.00 * N(1.23, 1.00) + 0.00 * N(-0.06, 1.00) + 0.00 * N(0.50, 1.00) + 0.00 * N(-0.59, 1.00) + 0.00 * N(1.50, 1.00)\n",
            "Epoch 19...\n",
            "0.29 * N(-3.02, 1.00) + 0.29 * N(3.09, 1.00) + 0.13 * N(0.66, 1.00) + 0.09 * N(-0.25, 1.00) + 0.06 * N(-0.67, 1.00) + 0.05 * N(0.14, 1.00) + 0.04 * N(0.10, 1.00) + 0.04 * N(0.04, 1.00) + 0.02 * N(-0.35, 1.00) + 0.00 * N(-0.97, 1.00) + 0.00 * N(-0.13, 1.00) + 0.00 * N(-0.70, 1.00) + 0.00 * N(1.20, 1.00) + 0.00 * N(-0.06, 1.00) + 0.00 * N(0.50, 1.00) + 0.00 * N(-0.59, 1.00) + 0.00 * N(1.50, 1.00)\n"
          ],
          "name": "stdout"
        }
      ]
    },
    {
      "cell_type": "markdown",
      "metadata": {
        "id": "1jRSjFw0Tc9A",
        "colab_type": "text"
      },
      "source": [
        "Ooops, there are too many 'small' components whose weight are smaller than 0.05. Although those components with higher weights seems to be reasonable, we definitely want our result more generative and avoid overfitting. Thus, we decrease the strength parameter $\\alpha$ to be 0.1 "
      ]
    },
    {
      "cell_type": "code",
      "metadata": {
        "id": "iXIv7AgxTZpA",
        "colab_type": "code",
        "outputId": "18d6f7d4-5469-495b-8251-80005c283034",
        "colab": {
          "base_uri": "https://localhost:8080/",
          "height": 697
        }
      },
      "source": [
        "np.random.seed(13)\n",
        "dpgmm = DPGaussianMixture(fix_tau=True, alpha=0.1)\n",
        "dpgmm.loadData(data)\n",
        "dpgmm.gibbsSampling(itr=20)"
      ],
      "execution_count": 0,
      "outputs": [
        {
          "output_type": "stream",
          "text": [
            "Epoch 0...\n",
            "0.43 * N(0.01, 1.00) + 0.29 * N(3.07, 1.00) + 0.28 * N(-3.06, 1.00)\n",
            "Epoch 1...\n",
            "0.42 * N(0.01, 1.00) + 0.29 * N(3.07, 1.00) + 0.29 * N(-3.04, 1.00)\n",
            "Epoch 2...\n",
            "0.42 * N(0.02, 1.00) + 0.29 * N(3.06, 1.00) + 0.29 * N(-3.03, 1.00)\n",
            "Epoch 3...\n",
            "0.41 * N(0.02, 1.00) + 0.30 * N(3.06, 1.00) + 0.29 * N(-3.03, 1.00)\n",
            "Epoch 4...\n",
            "0.41 * N(0.02, 1.00) + 0.30 * N(3.06, 1.00) + 0.29 * N(-3.02, 1.00)\n",
            "Epoch 5...\n",
            "0.41 * N(0.02, 1.00) + 0.30 * N(3.06, 1.00) + 0.29 * N(-3.02, 1.00)\n",
            "Epoch 6...\n",
            "0.41 * N(0.02, 1.00) + 0.30 * N(3.05, 1.00) + 0.29 * N(-3.01, 1.00)\n",
            "Epoch 7...\n",
            "0.41 * N(0.02, 1.00) + 0.30 * N(3.05, 1.00) + 0.29 * N(-3.01, 1.00)\n",
            "Epoch 8...\n",
            "0.41 * N(0.02, 1.00) + 0.30 * N(3.05, 1.00) + 0.29 * N(-3.01, 1.00)\n",
            "Epoch 9...\n",
            "0.41 * N(0.02, 1.00) + 0.30 * N(3.05, 1.00) + 0.29 * N(-3.01, 1.00)\n",
            "Epoch 10...\n",
            "0.41 * N(0.02, 1.00) + 0.30 * N(3.05, 1.00) + 0.29 * N(-3.01, 1.00)\n",
            "Epoch 11...\n",
            "0.41 * N(0.02, 1.00) + 0.30 * N(3.05, 1.00) + 0.29 * N(-3.01, 1.00)\n",
            "Epoch 12...\n",
            "0.41 * N(0.02, 1.00) + 0.30 * N(3.05, 1.00) + 0.29 * N(-3.01, 1.00)\n",
            "Epoch 13...\n",
            "0.41 * N(0.02, 1.00) + 0.30 * N(3.05, 1.00) + 0.29 * N(-3.01, 1.00)\n",
            "Epoch 14...\n",
            "0.41 * N(0.02, 1.00) + 0.30 * N(3.05, 1.00) + 0.29 * N(-3.01, 1.00)\n",
            "Epoch 15...\n",
            "0.41 * N(0.02, 1.00) + 0.30 * N(3.05, 1.00) + 0.29 * N(-3.01, 1.00)\n",
            "Epoch 16...\n",
            "0.41 * N(0.02, 1.00) + 0.30 * N(3.05, 1.00) + 0.29 * N(-3.01, 1.00)\n",
            "Epoch 17...\n",
            "0.41 * N(0.02, 1.00) + 0.30 * N(3.05, 1.00) + 0.29 * N(-3.01, 1.00)\n",
            "Epoch 18...\n",
            "0.41 * N(0.02, 1.00) + 0.30 * N(3.04, 1.00) + 0.29 * N(-3.01, 1.00)\n",
            "Epoch 19...\n",
            "0.41 * N(0.02, 1.00) + 0.30 * N(3.04, 1.00) + 0.29 * N(-3.01, 1.00)\n"
          ],
          "name": "stdout"
        }
      ]
    },
    {
      "cell_type": "markdown",
      "metadata": {
        "id": "f4VZkDkAVmYW",
        "colab_type": "text"
      },
      "source": [
        "As we can see, when we adjust $\\alpha$ to be small, learned component is reasonably reduced and the learned results are almost perfect. Note that we mannually choose a random seed 13 in the above cell to set a reasonable start for the Gibbs sampling such that we could get the results in 20 epochs. No matter what seed is set, the result will finally converge to this one. The seed is set ONLY for presentation reasons."
      ]
    },
    {
      "cell_type": "markdown",
      "metadata": {
        "id": "NdS8ZbesY3Cj",
        "colab_type": "text"
      },
      "source": [
        "Now let's see the pdf of learned results:"
      ]
    },
    {
      "cell_type": "code",
      "metadata": {
        "id": "55Dh3kN-ZlaF",
        "colab_type": "code",
        "outputId": "ed07e82e-3515-4455-90e2-d974f0ba8b73",
        "colab": {
          "base_uri": "https://localhost:8080/",
          "height": 282
        }
      },
      "source": [
        "X = np.arange(-6, 6, 0.1)\n",
        "Y = dpgmm.pdf(X)\n",
        "plt.plot(X, Y, 'b')\n",
        "plt.plot(X, gmm.pdf(X), 'r')\n",
        "plt.legend(['DP', 'True'])"
      ],
      "execution_count": 0,
      "outputs": [
        {
          "output_type": "execute_result",
          "data": {
            "text/plain": [
              "<matplotlib.legend.Legend at 0x7fbd5cd6a0f0>"
            ]
          },
          "metadata": {
            "tags": []
          },
          "execution_count": 60
        },
        {
          "output_type": "display_data",
          "data": {
            "image/png": "[encoded data removed]",
            "text/plain": [
              "<Figure size 432x288 with 1 Axes>"
            ]
          },
          "metadata": {
            "tags": []
          }
        }
      ]
    },
    {
      "cell_type": "markdown",
      "metadata": {
        "id": "vHVWJUMQZuyy",
        "colab_type": "text"
      },
      "source": [
        "which is quite similar to the true distribution. Now let's look at the formula it learned."
      ]
    },
    {
      "cell_type": "code",
      "metadata": {
        "id": "CC_3gNccVbWo",
        "colab_type": "code",
        "outputId": "a74219ae-15a8-43e8-cb40-0b7db22fcce6",
        "colab": {
          "base_uri": "https://localhost:8080/",
          "height": 51
        }
      },
      "source": [
        "print('Dirichlet Process Learned:\\t', dpgmm)\n",
        "print('True Distribution:\\t\\t', gmm)"
      ],
      "execution_count": 0,
      "outputs": [
        {
          "output_type": "stream",
          "text": [
            "Dirichlet Process Learned:\t 0.41 * N(0.02, 1.00) + 0.30 * N(3.04, 1.00) + 0.29 * N(-3.01, 1.00)\n",
            "True Distribution:\t\t 0.40 * N(0.00, 1.00) + 0.30 * N(-3.00, 1.00) + 0.30 * N(3.00, 1.00)\n"
          ],
          "name": "stdout"
        }
      ]
    },
    {
      "cell_type": "markdown",
      "metadata": {
        "id": "fmbZ0iUoZXhk",
        "colab_type": "text"
      },
      "source": [
        "We could see the parameters ($\\mu$s and $\\pi$s) are properly learned! The clustering runs very well! "
      ]
    },
    {
      "cell_type": "markdown",
      "metadata": {
        "id": "42G_2C-ja4lR",
        "colab_type": "text"
      },
      "source": [
        "There's one more question. What if the $\\tau$ (or variance) is not fixed to its true value one? My Dirichlet also implement the case where it is not fixed. Let's have a look:"
      ]
    },
    {
      "cell_type": "code",
      "metadata": {
        "id": "ELVAGu8bbGn1",
        "colab_type": "code",
        "outputId": "a3b4b987-e8ae-40b3-c196-e7c9a218bb4f",
        "colab": {
          "base_uri": "https://localhost:8080/",
          "height": 697
        }
      },
      "source": [
        "np.random.seed(1)\n",
        "dpgmm_freetau = DPGaussianMixture(fix_tau=False, alpha=10)\n",
        "dpgmm_freetau.loadData(data)\n",
        "dpgmm_freetau.gibbsSampling(itr=20)"
      ],
      "execution_count": 0,
      "outputs": [
        {
          "output_type": "stream",
          "text": [
            "Epoch 0...\n",
            "0.80 * N(0.04, 41.19) + 0.20 * N(0.06, 42.36) + 0.00 * N(-0.22, 36.15)\n",
            "Epoch 1...\n",
            "0.80 * N(0.04, 41.28) + 0.20 * N(0.06, 41.89) + 0.00 * N(-0.08, 32.57)\n",
            "Epoch 2...\n",
            "0.80 * N(0.04, 41.35) + 0.20 * N(0.02, 41.54) + 0.00 * N(0.26, 37.14) + 0.00 * N(-2.06, 315.43)\n",
            "Epoch 3...\n",
            "0.80 * N(0.05, 41.39) + 0.20 * N(0.00, 41.30) + 0.00 * N(0.47, 42.06) + 0.00 * N(-2.06, 315.43)\n",
            "Epoch 4...\n",
            "0.80 * N(0.05, 41.34) + 0.20 * N(0.00, 41.46) + 0.00 * N(0.49, 49.83) + 0.00 * N(-2.06, 315.43) + 0.00 * N(0.88, 123.30)\n",
            "Epoch 5...\n",
            "0.80 * N(0.05, 41.26) + 0.20 * N(0.01, 41.80) + 0.00 * N(0.36, 49.83) + 0.00 * N(-2.06, 315.43) + 0.00 * N(0.88, 123.30)\n",
            "Epoch 6...\n",
            "0.80 * N(0.04, 41.19) + 0.20 * N(0.02, 42.11) + 0.00 * N(0.25, 43.70) + 0.00 * N(-2.06, 315.43) + 0.00 * N(0.88, 123.30)\n",
            "Epoch 7...\n",
            "0.80 * N(0.05, 41.22) + 0.20 * N(0.02, 41.99) + 0.00 * N(0.11, 43.46) + 0.00 * N(0.69, 33.24) + 0.00 * N(-2.06, 315.43)\n",
            "Epoch 8...\n",
            "0.80 * N(0.05, 41.20) + 0.20 * N(0.01, 42.06) + 0.00 * N(0.09, 46.20) + 0.00 * N(0.69, 33.24) + 0.00 * N(-2.06, 315.43)\n",
            "Epoch 9...\n",
            "0.80 * N(0.05, 41.21) + 0.20 * N(0.02, 42.04) + 0.00 * N(0.11, 42.91) + 0.00 * N(0.69, 33.24) + 0.00 * N(-0.38, 97.88) + 0.00 * N(-2.06, 315.43)\n",
            "Epoch 10...\n",
            "0.80 * N(0.05, 41.20) + 0.20 * N(0.02, 42.07) + 0.00 * N(0.08, 43.12) + 0.00 * N(0.69, 33.24) + 0.00 * N(-0.38, 97.88) + 0.00 * N(-2.06, 315.43)\n",
            "Epoch 11...\n",
            "0.80 * N(0.05, 41.23) + 0.20 * N(0.02, 41.99) + 0.00 * N(0.04, 35.81) + 0.00 * N(0.69, 33.24) + 0.00 * N(-0.38, 97.88) + 0.00 * N(-2.06, 315.43)\n",
            "Epoch 12...\n",
            "0.80 * N(0.05, 41.23) + 0.20 * N(0.02, 41.99) + 0.00 * N(0.08, 37.60) + 0.00 * N(0.69, 33.24) + 0.00 * N(-0.38, 97.88) + 0.00 * N(-2.06, 315.43)\n",
            "Epoch 13...\n",
            "0.80 * N(0.04, 41.20) + 0.20 * N(0.02, 42.11) + 0.00 * N(0.02, 38.64) + 0.00 * N(0.69, 33.24) + 0.00 * N(-0.38, 97.88) + 0.00 * N(-2.06, 315.43)\n",
            "Epoch 14...\n",
            "0.80 * N(0.04, 41.25) + 0.20 * N(0.02, 41.90) + 0.00 * N(0.03, 39.24) + 0.00 * N(0.69, 33.24) + 0.00 * N(-0.38, 97.88) + 0.00 * N(-2.06, 315.43)\n",
            "Epoch 15...\n",
            "0.80 * N(0.04, 41.27) + 0.20 * N(0.02, 41.83) + 0.00 * N(0.05, 41.05) + 0.00 * N(0.69, 33.24) + 0.00 * N(-0.38, 97.88) + 0.00 * N(-2.06, 315.43)\n",
            "Epoch 16...\n",
            "0.80 * N(0.04, 41.25) + 0.20 * N(0.02, 41.90) + 0.00 * N(0.06, 41.48) + 0.00 * N(0.69, 33.24) + 0.00 * N(-0.38, 97.88) + 0.00 * N(-2.06, 315.43)\n",
            "Epoch 17...\n",
            "0.80 * N(0.04, 41.30) + 0.20 * N(0.02, 41.69) + 0.00 * N(0.12, 41.04) + 0.00 * N(0.69, 33.24) + 0.00 * N(-0.38, 97.88) + 0.00 * N(-2.06, 315.43)\n",
            "Epoch 18...\n",
            "0.80 * N(0.04, 41.29) + 0.20 * N(0.02, 41.73) + 0.00 * N(0.11, 38.83) + 0.00 * N(0.69, 33.24) + 0.00 * N(-0.38, 97.88) + 0.00 * N(-2.06, 315.43)\n",
            "Epoch 19...\n",
            "0.80 * N(0.04, 41.29) + 0.20 * N(0.02, 41.75) + 0.00 * N(0.13, 37.32) + 0.00 * N(0.69, 33.24) + 0.00 * N(-0.38, 97.88) + 0.00 * N(-2.06, 315.43)\n"
          ],
          "name": "stdout"
        }
      ]
    },
    {
      "cell_type": "markdown",
      "metadata": {
        "id": "KhZaas5_bQMF",
        "colab_type": "text"
      },
      "source": [
        "Sadly, it failed to learn a reasonable results even with a large $\\alpha$. It quickly find a component with a very large variance and stays there forever. Let's look at its density function:"
      ]
    },
    {
      "cell_type": "code",
      "metadata": {
        "id": "AkLPKFIgbNfE",
        "colab_type": "code",
        "outputId": "f8e20f2b-183b-4167-e3b2-991ca4e107bb",
        "colab": {
          "base_uri": "https://localhost:8080/",
          "height": 282
        }
      },
      "source": [
        "X = np.arange(-6, 6, 0.1)\n",
        "plt.plot(X, dpgmm_freetau.pdf(X), 'b')\n",
        "plt.plot(X, gmm.pdf(X), 'r')\n",
        "plt.legend(['DP with Learned Variance', 'True'])"
      ],
      "execution_count": 0,
      "outputs": [
        {
          "output_type": "execute_result",
          "data": {
            "text/plain": [
              "<matplotlib.legend.Legend at 0x7fbd5cbe8b38>"
            ]
          },
          "metadata": {
            "tags": []
          },
          "execution_count": 71
        },
        {
          "output_type": "display_data",
          "data": {
            "image/png": "[encoded data removed]",
            "text/plain": [
              "<Figure size 432x288 with 1 Axes>"
            ]
          },
          "metadata": {
            "tags": []
          }
        }
      ]
    },
    {
      "cell_type": "markdown",
      "metadata": {
        "id": "lXwt_WWhcX_N",
        "colab_type": "text"
      },
      "source": [
        "Quite bad. It tries to use one component to cover all the datapoints. Since we are not given unlimited time, the result after 20 epochs of Gibbs is far from converge because the DP mixture model has too many free degrees. However, when we try to use DP in our project, we definitely do not want such a model. We may just fix the variance to some value (like 1) and learn. Although it will not give us the exact the same components as the data generated, it will give us an (overfitted) estimation. It's hard to learn variance with unknown clusters anyway."
      ]
    },
    {
      "cell_type": "markdown",
      "metadata": {
        "id": "4lFXq7qaduwe",
        "colab_type": "text"
      },
      "source": [
        "### Conclusion\n",
        "In this homework, I write a simple Dirichlet Process Mixture Model with Gaussian Components. It managed to learn a reasonable results from a dataset generated by Gaussian Mixture Model when the variance is fixed and failed to do so when variance is not fixed. Both results are expected. There are some questions this homework did not answer, such as what will happen if the dataset is not generated from a Gaussian Mixture Model? What is the best choice for the base distribution (other than Gaussian)? These questions could further explored in the future."
      ]
    }
  ]
}
